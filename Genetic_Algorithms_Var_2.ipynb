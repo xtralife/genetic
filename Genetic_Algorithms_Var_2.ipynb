{
 "nbformat": 4,
 "nbformat_minor": 0,
 "metadata": {
  "colab": {
   "name": "Genetic Algorithms Var 2.ipynb",
   "provenance": [],
   "collapsed_sections": [],
   "toc_visible": true
  },
  "kernelspec": {
   "name": "python3",
   "language": "python",
   "display_name": "Python 3"
  },
  "pycharm": {
   "stem_cell": {
    "cell_type": "raw",
    "source": [],
    "metadata": {
     "collapsed": false
    }
   }
  }
 },
 "cells": [
  {
   "cell_type": "code",
   "metadata": {
    "id": "KmkGCQBG2Vrj",
    "colab_type": "code",
    "colab": {},
    "pycharm": {
     "is_executing": false
    }
   },
   "source": [
    "import math\n",
    "import random\n",
    "import sys\n",
    "import operator\n",
    "\n",
    "import pandas as pd\n",
    "import numpy as np"
   ],
   "execution_count": 19,
   "outputs": []
  },
  {
   "cell_type": "code",
   "metadata": {
    "id": "WvlifS3E0PEz",
    "colab_type": "code",
    "colab": {},
    "pycharm": {
     "is_executing": false
    }
   },
   "source": [
    "L = 5\n",
    "N = 6\n",
    "ITERATIONS = 10\n",
    "MUTATION_CHANCE = 0.1\n",
    "GENE_MASK = []"
   ],
   "execution_count": 20,
   "outputs": []
  },
  {
   "cell_type": "code",
   "metadata": {
    "id": "hASdz2Bq_baV",
    "colab_type": "code",
    "colab": {},
    "pycharm": {
     "is_executing": false
    }
   },
   "source": [
    "def fitness(individ):\n",
    "    return L"
   ],
   "execution_count": 21,
   "outputs": []
  },
  {
   "cell_type": "code",
   "metadata": {
    "id": "RTEfdoyy2GMt",
    "colab_type": "code",
    "colab": {},
    "pycharm": {
     "is_executing": false
    }
   },
   "source": [
    "def get_max_num_for_bits(bits):\n",
    "    max_bits = math.log2(sys.maxsize * 2 + 1)\n",
    "    return int(sys.maxsize * 2 + 1) >> int(max_bits - bits)"
   ],
   "execution_count": 22,
   "outputs": []
  },
  {
   "cell_type": "code",
   "metadata": {
    "id": "ooVO1e4P6I-J",
    "colab_type": "code",
    "colab": {},
    "pycharm": {
     "is_executing": false
    }
   },
   "source": [
    "def uniform_individ():\n",
    "    return random.randint(0, get_max_num_for_bits(L))\n",
    "\n",
    "def zero_individ():\n",
    "    return 0\n",
    "\n",
    "\n",
    "def initial_pool(n, option=\"uniform\"):\n",
    "    pool = []\n",
    "    for i in range(0, n):\n",
    "        if option is \"uniform\":\n",
    "            pool.append(random.randint(0, get_max_num_for_bits(L)))\n",
    "        elif option is \"zeroes\":\n",
    "            pool.append(0)\n",
    "        elif option is \"standart\":\n",
    "            pool.append(0)\n",
    "        else:\n",
    "            raise SyntaxError(\"no such option for initial pool: {option}\")\n",
    "    return pool"
   ],
   "execution_count": 23,
   "outputs": [
    {
     "name": "stderr",
     "text": [
      "<>:11: SyntaxWarning: \"is\" with a literal. Did you mean \"==\"?\n",
      "<>:13: SyntaxWarning: \"is\" with a literal. Did you mean \"==\"?\n",
      "<>:15: SyntaxWarning: \"is\" with a literal. Did you mean \"==\"?\n",
      "<>:11: SyntaxWarning: \"is\" with a literal. Did you mean \"==\"?\n",
      "<>:13: SyntaxWarning: \"is\" with a literal. Did you mean \"==\"?\n",
      "<>:15: SyntaxWarning: \"is\" with a literal. Did you mean \"==\"?\n",
      "<ipython-input-23-9dd0e74aac9c>:11: SyntaxWarning: \"is\" with a literal. Did you mean \"==\"?\n",
      "  if option is \"uniform\":\n",
      "<ipython-input-23-9dd0e74aac9c>:13: SyntaxWarning: \"is\" with a literal. Did you mean \"==\"?\n",
      "  elif option is \"zeroes\":\n",
      "<ipython-input-23-9dd0e74aac9c>:15: SyntaxWarning: \"is\" with a literal. Did you mean \"==\"?\n",
      "  elif option is \"standart\":\n"
     ],
     "output_type": "stream"
    }
   ]
  },
  {
   "cell_type": "code",
   "metadata": {
    "id": "2Djpl7J78SSJ",
    "colab_type": "code",
    "colab": {},
    "pycharm": {
     "is_executing": false
    }
   },
   "source": [
    "def get_percentile(probs, throw):\n",
    "    i = 0\n",
    "    while throw >= probs[i]:\n",
    "        throw -= probs[i]\n",
    "        i += 1\n",
    "    return i\n",
    "\n",
    "def rws(pool, probs, n):\n",
    "    new_pool = []\n",
    "    for i in range(0, n):\n",
    "        throw = random.random()\n",
    "        perc = get_percentile(probs, throw)\n",
    "        new_pool.append(pool[perc])\n",
    "    return new_pool"
   ],
   "execution_count": 24,
   "outputs": []
  },
  {
   "cell_type": "code",
   "metadata": {
    "id": "nkuT4Z02PLb8",
    "colab_type": "code",
    "colab": {},
    "pycharm": {
     "is_executing": false
    }
   },
   "source": [
    "def should_mutate() -> bool:\n",
    "    return random.random() <= MUTATION_CHANCE\n",
    "\n",
    "def mutate(individual):\n",
    "    for i in range(0, L):\n",
    "        if should_mutate():\n",
    "            individual = individual ^ (1 << i)\n",
    "    return individual"
   ],
   "execution_count": 25,
   "outputs": []
  },
  {
   "cell_type": "code",
   "metadata": {
    "id": "a469vBk-NzsI",
    "colab_type": "code",
    "colab": {},
    "pycharm": {
     "is_executing": false
    }
   },
   "source": [
    "def is_bit_set(num, i):\n",
    "    return num & (1 << i) > 0"
   ],
   "execution_count": 26,
   "outputs": []
  },
  {
   "cell_type": "code",
   "metadata": {
    "id": "4vJmyyznOI96",
    "colab_type": "code",
    "outputId": "44a9828e-82d2-4d4b-ad4c-fce4599083f5",
    "colab": {
     "base_uri": "https://localhost:8080/",
     "height": 35
    },
    "pycharm": {
     "is_executing": false
    }
   },
   "source": [
    "def get_ith(lst, i):\n",
    "    return lst[i] if -len(lst) <= i < len(lst) else 0\n",
    "\n",
    "def count_bits(num, mask=[]):\n",
    "    count = 0\n",
    "    for i in range(0, L):\n",
    "        if get_ith(mask, i) == 0 and is_bit_set(num, i):\n",
    "            count += 1\n",
    "    return count\n",
    "\n",
    "count_bits(5)\n"
   ],
   "execution_count": 27,
   "outputs": [
    {
     "data": {
      "text/plain": "2"
     },
     "metadata": {},
     "output_type": "execute_result",
     "execution_count": 27
    }
   ]
  },
  {
   "cell_type": "code",
   "metadata": {
    "id": "laRGUxyuLdLM",
    "colab_type": "code",
    "outputId": "947515d5-1e72-4323-d80d-c0c126ae48c2",
    "colab": {
     "base_uri": "https://localhost:8080/",
     "height": 70
    },
    "pycharm": {
     "is_executing": false
    }
   },
   "source": [
    "def hamming_distance(n1, n2) -> int: \n",
    "    x = n1 ^ n2  \n",
    "    return count_bits(x) \n",
    "\n",
    "print(hamming_distance(2, 5) == 3)\n",
    "print(hamming_distance(5, 5) == 0)\n",
    "print(hamming_distance(0, 31) == 5)"
   ],
   "execution_count": 28,
   "outputs": [
    {
     "name": "stdout",
     "text": [
      "True\n",
      "True\n",
      "True\n"
     ],
     "output_type": "stream"
    }
   ]
  },
  {
   "cell_type": "code",
   "metadata": {
    "id": "Z_01_lZ6L14r",
    "colab_type": "code",
    "outputId": "5d082796-d7be-47d4-f3f1-e53b05bc3a1c",
    "colab": {
     "base_uri": "https://localhost:8080/",
     "height": 52
    },
    "pycharm": {
     "is_executing": false
    }
   },
   "source": [
    "def wild_type(population) -> int:\n",
    "    wild_type = 0\n",
    "    for i in range(0, L):\n",
    "        ones = 0\n",
    "        for individ in population:\n",
    "            if is_bit_set(individ, i):\n",
    "                ones += 1\n",
    "        mode = round(float(ones) / len(population))\n",
    "        wild_type |= (mode << i)\n",
    "    return wild_type\n",
    "\n",
    "t1 = wild_type([int('11', 2), int('11', 2)]) # 11 -> 3\n",
    "t2 = wild_type([int('110', 2), int('101', 2), int('000', 2)]) # 100 -> 4\n",
    "\n",
    "print(t1, bin(t1))\n",
    "print(t2, bin(t2))\n",
    "\n"
   ],
   "execution_count": 29,
   "outputs": [
    {
     "name": "stdout",
     "text": [
      "3 0b11\n",
      "4 0b100\n"
     ],
     "output_type": "stream"
    }
   ]
  },
  {
   "cell_type": "code",
   "metadata": {
    "id": "uhf2tuDoihJt",
    "colab_type": "code",
    "colab": {},
    "pycharm": {
     "is_executing": false
    }
   },
   "source": [
    "def gen_columns(length):\n",
    "    columns = [\"Кількість особин у популяції\"]\n",
    "\n",
    "    for i in range(0, length+1):\n",
    "        columns.append(\"Відстань \" + str(i))\n",
    "    \n",
    "    columns.extend([\n",
    "                    \"Відстань: математичне сподівання\",\n",
    "                    \"Відстань: середнє квадратичне відхилення\",\n",
    "                    \"Відстань: мода\",\n",
    "                    \"Відсоток поліморфних нейтральних генів у популяції з 1 заміною\",\n",
    "                    \"Відсоток поліморфних нейтральних генів у популяції з кількома замінами\",\n",
    "                    \"«Дикий тип»: % поліморфних генів\",\n",
    "                    \"«Дикий тип»: кількість поліморфних генів\",\n",
    "                    \"Модуль різниці середнього здоров’я в популяції від оптимального\",\n",
    "                    \"Модуль різниці найкращого здоров’я в популяції від оптимального\"\n",
    "    ])\n",
    "\n",
    "    return columns\n",
    "\n",
    "stat_columns = gen_columns(L)"
   ],
   "execution_count": 30,
   "outputs": []
  },
  {
   "cell_type": "code",
   "metadata": {
    "id": "reu1vyXcd-ed",
    "colab_type": "code",
    "colab": {},
    "pycharm": {
     "is_executing": false
    }
   },
   "source": [
    "def get_pair_distandes(population):\n",
    "    grouped_distances = dict()\n",
    "    total = 0\n",
    "    for row in range(0, len(population)):\n",
    "        for col in range(0, len(population)):\n",
    "            if row == col:\n",
    "                break\n",
    "            distance = hamming_distance(population[row], population[col])\n",
    "            grouped_distances[distance] = grouped_distances.get(distance, 0) + 1\n",
    "            total += 1\n",
    "\n",
    "    return grouped_distances, total\n",
    "\n",
    "def get_population_stats(population, fits):\n",
    "    line = dict()\n",
    "    line[\"Кількість особин у популяції\"] = [len(population)]\n",
    "    pairs, total_pairs = get_pair_distandes(population)\n",
    "    for i in range(0, L+1):\n",
    "        line[f\"Відстань {i}\"] = [pairs.get(i, 0) / total_pairs]\n",
    "\n",
    "    mean = sum([p[0] * (p[1] / float(total_pairs)) for p in pairs.items()])\n",
    "    line[\"Відстань: математичне сподівання\"] = [mean]\n",
    "\n",
    "    std = math.sqrt(sum([pow(p[0] - mean, 2) * (p[1] / float(total_pairs)) for p in pairs.items()]))\n",
    "    line[\"Відстань: середнє квадратичне відхилення\"] = [std]\n",
    "\n",
    "    mode = max(pairs.items(), key=operator.itemgetter(1))[0]\n",
    "    line[\"Відстань: мода\"] = [mode]\n",
    "\n",
    "    all_set_bits = 0\n",
    "    for locus in range(0, L):\n",
    "      for ind in population:\n",
    "        if is_bit_set(ind, locus):\n",
    "          all_set_bits |= (mode << locus)\n",
    "          continue\n",
    "\n",
    "    polymorph_bits = count_bits(all_set_bits, GENE_MASK) / float(L)\n",
    "\n",
    "    line[\"Відсоток поліморфних нейтральних генів у популяції з 1 заміною\"] = polymorph_bits\n",
    "    line[\"Відсоток поліморфних нейтральних генів у популяції з кількома замінами\"] = polymorph_bits\n",
    "\n",
    "    wild = wild_type(population)\n",
    "    wild_polymorph = count_bits(wild, GENE_MASK)\n",
    "\n",
    "    line[\"«Дикий тип»: % поліморфних генів\"] = wild_polymorph / float(L)\n",
    "    line[\"«Дикий тип»: кількість поліморфних генів\"] = wild_polymorph\n",
    "\n",
    "    module_mean = abs((sum(fits) / len(fits)) - fitness(0))\n",
    "    module_best = abs(max(fits) - fitness(0))\n",
    "\n",
    "    line[\"Модуль різниці середнього здоров’я в популяції від оптимального\"] = module_mean\n",
    "    line[\"Модуль різниці найкращого здоров’я в популяції від оптимального\"] = module_best\n",
    "\n",
    "    return pd.DataFrame(line, columns=stat_columns)\n"
   ],
   "execution_count": 31,
   "outputs": []
  },
  {
   "cell_type": "code",
   "metadata": {
    "id": "4fKdue1CgaaW",
    "colab_type": "code",
    "colab": {},
    "pycharm": {
     "is_executing": false
    }
   },
   "source": [
    "def format_bin(lst):\n",
    "    return list(map(lambda x: format(x, f'0{L}b'), lst))"
   ],
   "execution_count": 32,
   "outputs": []
  },
  {
   "cell_type": "code",
   "metadata": {
    "id": "Cq_EcaOpAfc3",
    "colab_type": "code",
    "colab": {},
    "pycharm": {
     "is_executing": false
    }
   },
   "source": [
    "#Refactor to be generic\n",
    "def simulation():\n",
    "    pool = initial_pool(N, \"zeroes\")\n",
    "    df = pd.DataFrame(columns=stat_columns)\n",
    "\n",
    "    for i in range(0, ITERATIONS):\n",
    "\n",
    "        print(\"Iteration \", i)\n",
    "        fits = []\n",
    "        for ind in pool:\n",
    "            fit = fitness(ind)\n",
    "            fits.append(fit)\n",
    "    \n",
    "        print(\"Fitnesses: \", fits)\n",
    "        total_fit = sum(fits)\n",
    "    \n",
    "        probs = []\n",
    "        for fit in fits:\n",
    "            prob = float(fit) / total_fit\n",
    "            probs.append(prob)\n",
    "\n",
    "        stats = get_population_stats(pool, fits)\n",
    "        df = df.append(stats, ignore_index=True)\n",
    "\n",
    "        print(\"Probabilities: \", probs)\n",
    "\n",
    "        new_pool = rws(pool, probs, N)\n",
    "        print(\"Selected pool:  \", format_bin(new_pool))\n",
    "        for i in range(0, len(new_pool)):\n",
    "            new_pool[i] = mutate(new_pool[i])\n",
    "        print(\"After mutation: \", format_bin(new_pool))\n",
    "\n",
    "        pool = new_pool\n",
    "    return df"
   ],
   "execution_count": 33,
   "outputs": []
  },
  {
   "cell_type": "code",
   "metadata": {
    "id": "S2tsEYaCtF8M",
    "colab_type": "code",
    "colab": {},
    "pycharm": {
     "is_executing": false
    }
   },
   "source": [
    "#Stub\n",
    "def init_pool(L, growth_option):\n",
    "  pool = []\n",
    "  pool.append(0)\n",
    "  return pool\n",
    "\n",
    "#Stub\n",
    "def calc_fitness(pool, selection_option):\n",
    "  fitness = []\n",
    "  fitness.append(10)\n",
    "  return fitness\n",
    "\n",
    "#Stub\n",
    "def get_successor_pool_size(growth_option, iteration):\n",
    "  return 1\n",
    "\n",
    "def simulate(L, growth_option, Px, selection_option):\n",
    "  pool = init_pool(L, growth_option)\n",
    "  for iteration in range(0, ITERATIONS):\n",
    "    fitness = calc_fitness(pool, selection_option)\n",
    "#    successor_pool_size = get_successor_pool_size(growth_option, iteration)\n",
    "#    predecessor_pool = select_predecessor_pool(pool, fitness, selection_option, successor_pool_size)\n",
    "#    successor_pool = mutate(predecessor_pool, Px)\n",
    "\n",
    "\n",
    "\n",
    "\n"
   ],
   "execution_count": 34,
   "outputs": []
  },
  {
   "cell_type": "code",
   "metadata": {
    "id": "7X5CAolmwQdP",
    "colab_type": "code",
    "colab": {},
    "pycharm": {
     "is_executing": false
    }
   },
   "source": [
    "def play_simulation():\n",
    "    df = simulation()\n",
    "    return df\n"
   ],
   "execution_count": 35,
   "outputs": []
  },
  {
   "cell_type": "code",
   "metadata": {
    "id": "r2rXtLT5lZ_I",
    "colab_type": "code",
    "outputId": "9488e7ba-2328-4739-99a0-4efb3e567eeb",
    "colab": {
     "base_uri": "https://localhost:8080/",
     "height": 1000
    },
    "pycharm": {
     "is_executing": false
    }
   },
   "source": [
    "play_simulation()"
   ],
   "execution_count": 36,
   "outputs": [
    {
     "name": "stdout",
     "text": [
      "Iteration  0\n",
      "Fitnesses:  [5, 5, 5, 5, 5, 5]\n",
      "Probabilities:  [0.16666666666666666, 0.16666666666666666, 0.16666666666666666, 0.16666666666666666, 0.16666666666666666, 0.16666666666666666]\n",
      "Selected pool:   ['00000', '00000', '00000', '00000', '00000', '00000']\n",
      "After mutation:  ['00000', '00000', '00000', '00010', '00000', '00000']\n",
      "Iteration  1\n",
      "Fitnesses:  [5, 5, 5, 5, 5, 5]\n",
      "Probabilities:  [0.16666666666666666, 0.16666666666666666, 0.16666666666666666, 0.16666666666666666, 0.16666666666666666, 0.16666666666666666]\n",
      "Selected pool:   ['00000', '00000', '00000', '00000', '00000', '00000']\n",
      "After mutation:  ['00100', '01010', '00000', '00000', '01000', '00000']\n",
      "Iteration  2\n",
      "Fitnesses:  [5, 5, 5, 5, 5, 5]\n",
      "Probabilities:  [0.16666666666666666, 0.16666666666666666, 0.16666666666666666, 0.16666666666666666, 0.16666666666666666, 0.16666666666666666]\n",
      "Selected pool:   ['00000', '01000', '00000', '01010', '00000', '00000']\n",
      "After mutation:  ['00000', '01000', '10000', '00010', '01010', '00110']\n",
      "Iteration  3\n",
      "Fitnesses:  [5, 5, 5, 5, 5, 5]\n",
      "Probabilities:  [0.16666666666666666, 0.16666666666666666, 0.16666666666666666, 0.16666666666666666, 0.16666666666666666, 0.16666666666666666]\n",
      "Selected pool:   ['00000', '00010', '01000', '01000', '00000', '00000']\n",
      "After mutation:  ['00000', '00000', '01001', '01000', '00010', '00000']\n",
      "Iteration  4\n",
      "Fitnesses:  [5, 5, 5, 5, 5, 5]\n",
      "Probabilities:  [0.16666666666666666, 0.16666666666666666, 0.16666666666666666, 0.16666666666666666, 0.16666666666666666, 0.16666666666666666]\n",
      "Selected pool:   ['00000', '01001', '01001', '00000', '00000', '00010']\n",
      "After mutation:  ['00000', '01001', '01001', '00000', '01000', '00110']\n",
      "Iteration  5\n",
      "Fitnesses:  [5, 5, 5, 5, 5, 5]\n",
      "Probabilities:  [0.16666666666666666, 0.16666666666666666, 0.16666666666666666, 0.16666666666666666, 0.16666666666666666, 0.16666666666666666]\n",
      "Selected pool:   ['00000', '01000', '00110', '01001', '01001', '01000']\n",
      "After mutation:  ['00000', '11100', '10110', '01001', '01001', '11000']\n",
      "Iteration  6\n",
      "Fitnesses:  [5, 5, 5, 5, 5, 5]\n",
      "Probabilities:  [0.16666666666666666, 0.16666666666666666, 0.16666666666666666, 0.16666666666666666, 0.16666666666666666, 0.16666666666666666]\n",
      "Selected pool:   ['01001', '10110', '01001', '01001', '11100', '01001']\n",
      "After mutation:  ['01100', '10110', '01000', '01001', '11110', '01000']\n",
      "Iteration  7\n",
      "Fitnesses:  [5, 5, 5, 5, 5, 5]\n",
      "Probabilities:  [0.16666666666666666, 0.16666666666666666, 0.16666666666666666, 0.16666666666666666, 0.16666666666666666, 0.16666666666666666]\n",
      "Selected pool:   ['10110', '10110', '01001', '01000', '11110', '01000']\n",
      "After mutation:  ['11110', '10111', '01001', '01100', '11101', '11000']\n",
      "Iteration  8\n",
      "Fitnesses:  [5, 5, 5, 5, 5, 5]\n",
      "Probabilities:  [0.16666666666666666, 0.16666666666666666, 0.16666666666666666, 0.16666666666666666, 0.16666666666666666, 0.16666666666666666]\n",
      "Selected pool:   ['11101', '01001', '10111', '11110', '11110', '01100']\n",
      "After mutation:  ['11101', '00101', '10111', '11110', '11010', '01100']\n",
      "Iteration  9\n",
      "Fitnesses:  [5, 5, 5, 5, 5, 5]\n",
      "Probabilities:  [0.16666666666666666, 0.16666666666666666, 0.16666666666666666, 0.16666666666666666, 0.16666666666666666, 0.16666666666666666]\n",
      "Selected pool:   ['11010', '11010', '11101', '10111', '11110', '11110']\n",
      "After mutation:  ['11010', '11011', '11101', '10101', '11110', '11000']\n"
     ],
     "output_type": "stream"
    },
    {
     "data": {
      "text/plain": "  Кількість особин у популяції  Відстань 0  Відстань 1  Відстань 2  \\\n0                            6    1.000000    0.000000    0.000000   \n1                            6    0.666667    0.333333    0.000000   \n2                            6    0.200000    0.466667    0.266667   \n3                            6    0.000000    0.400000    0.400000   \n4                            6    0.200000    0.466667    0.266667   \n5                            6    0.133333    0.266667    0.400000   \n6                            6    0.066667    0.066667    0.400000   \n7                            6    0.066667    0.333333    0.133333   \n8                            6    0.000000    0.000000    0.733333   \n9                            6    0.000000    0.066667    0.533333   \n\n   Відстань 3  Відстань 4  Відстань 5  Відстань: математичне сподівання  \\\n0    0.000000    0.000000    0.000000                          0.000000   \n1    0.000000    0.000000    0.000000                          0.333333   \n2    0.066667    0.000000    0.000000                          1.200000   \n3    0.200000    0.000000    0.000000                          1.800000   \n4    0.066667    0.000000    0.000000                          1.200000   \n5    0.066667    0.133333    0.000000                          1.800000   \n6    0.333333    0.000000    0.133333                          2.533333   \n7    0.200000    0.200000    0.066667                          2.333333   \n8    0.000000    0.266667    0.000000                          2.533333   \n9    0.200000    0.133333    0.066667                          2.600000   \n\n   Відстань: середнє квадратичне відхилення Відстань: мода  \\\n0                                  0.000000              0   \n1                                  0.471405              0   \n2                                  0.832666              1   \n3                                  0.748331              1   \n4                                  0.832666              1   \n5                                  1.166190              2   \n6                                  1.257864              2   \n7                                  1.445299              1   \n8                                  0.884433              2   \n9                                  1.019804              2   \n\n   Відсоток поліморфних нейтральних генів у популяції з 1 заміною  \\\n0                                                0.0                \n1                                                0.0                \n2                                                0.6                \n3                                                0.8                \n4                                                0.6                \n5                                                0.8                \n6                                                0.8                \n7                                                1.0                \n8                                                0.8                \n9                                                0.8                \n\n   Відсоток поліморфних нейтральних генів у популяції з кількома замінами  \\\n0                                                0.0                        \n1                                                0.0                        \n2                                                0.6                        \n3                                                0.8                        \n4                                                0.6                        \n5                                                0.8                        \n6                                                0.8                        \n7                                                1.0                        \n8                                                0.8                        \n9                                                0.8                        \n\n   «Дикий тип»: % поліморфних генів «Дикий тип»: кількість поліморфних генів  \\\n0                               0.0                                        0   \n1                               0.0                                        0   \n2                               0.0                                        0   \n3                               0.0                                        0   \n4                               0.0                                        0   \n5                               0.0                                        0   \n6                               0.2                                        1   \n7                               0.2                                        1   \n8                               0.6                                        3   \n9                               0.6                                        3   \n\n   Модуль різниці середнього здоров’я в популяції від оптимального  \\\n0                                                0.0                 \n1                                                0.0                 \n2                                                0.0                 \n3                                                0.0                 \n4                                                0.0                 \n5                                                0.0                 \n6                                                0.0                 \n7                                                0.0                 \n8                                                0.0                 \n9                                                0.0                 \n\n  Модуль різниці найкращого здоров’я в популяції від оптимального  \n0                                                  0               \n1                                                  0               \n2                                                  0               \n3                                                  0               \n4                                                  0               \n5                                                  0               \n6                                                  0               \n7                                                  0               \n8                                                  0               \n9                                                  0               ",
      "text/html": "<div>\n<style scoped>\n    .dataframe tbody tr th:only-of-type {\n        vertical-align: middle;\n    }\n\n    .dataframe tbody tr th {\n        vertical-align: top;\n    }\n\n    .dataframe thead th {\n        text-align: right;\n    }\n</style>\n<table border=\"1\" class=\"dataframe\">\n  <thead>\n    <tr style=\"text-align: right;\">\n      <th></th>\n      <th>Кількість особин у популяції</th>\n      <th>Відстань 0</th>\n      <th>Відстань 1</th>\n      <th>Відстань 2</th>\n      <th>Відстань 3</th>\n      <th>Відстань 4</th>\n      <th>Відстань 5</th>\n      <th>Відстань: математичне сподівання</th>\n      <th>Відстань: середнє квадратичне відхилення</th>\n      <th>Відстань: мода</th>\n      <th>Відсоток поліморфних нейтральних генів у популяції з 1 заміною</th>\n      <th>Відсоток поліморфних нейтральних генів у популяції з кількома замінами</th>\n      <th>«Дикий тип»: % поліморфних генів</th>\n      <th>«Дикий тип»: кількість поліморфних генів</th>\n      <th>Модуль різниці середнього здоров’я в популяції від оптимального</th>\n      <th>Модуль різниці найкращого здоров’я в популяції від оптимального</th>\n    </tr>\n  </thead>\n  <tbody>\n    <tr>\n      <th>0</th>\n      <td>6</td>\n      <td>1.000000</td>\n      <td>0.000000</td>\n      <td>0.000000</td>\n      <td>0.000000</td>\n      <td>0.000000</td>\n      <td>0.000000</td>\n      <td>0.000000</td>\n      <td>0.000000</td>\n      <td>0</td>\n      <td>0.0</td>\n      <td>0.0</td>\n      <td>0.0</td>\n      <td>0</td>\n      <td>0.0</td>\n      <td>0</td>\n    </tr>\n    <tr>\n      <th>1</th>\n      <td>6</td>\n      <td>0.666667</td>\n      <td>0.333333</td>\n      <td>0.000000</td>\n      <td>0.000000</td>\n      <td>0.000000</td>\n      <td>0.000000</td>\n      <td>0.333333</td>\n      <td>0.471405</td>\n      <td>0</td>\n      <td>0.0</td>\n      <td>0.0</td>\n      <td>0.0</td>\n      <td>0</td>\n      <td>0.0</td>\n      <td>0</td>\n    </tr>\n    <tr>\n      <th>2</th>\n      <td>6</td>\n      <td>0.200000</td>\n      <td>0.466667</td>\n      <td>0.266667</td>\n      <td>0.066667</td>\n      <td>0.000000</td>\n      <td>0.000000</td>\n      <td>1.200000</td>\n      <td>0.832666</td>\n      <td>1</td>\n      <td>0.6</td>\n      <td>0.6</td>\n      <td>0.0</td>\n      <td>0</td>\n      <td>0.0</td>\n      <td>0</td>\n    </tr>\n    <tr>\n      <th>3</th>\n      <td>6</td>\n      <td>0.000000</td>\n      <td>0.400000</td>\n      <td>0.400000</td>\n      <td>0.200000</td>\n      <td>0.000000</td>\n      <td>0.000000</td>\n      <td>1.800000</td>\n      <td>0.748331</td>\n      <td>1</td>\n      <td>0.8</td>\n      <td>0.8</td>\n      <td>0.0</td>\n      <td>0</td>\n      <td>0.0</td>\n      <td>0</td>\n    </tr>\n    <tr>\n      <th>4</th>\n      <td>6</td>\n      <td>0.200000</td>\n      <td>0.466667</td>\n      <td>0.266667</td>\n      <td>0.066667</td>\n      <td>0.000000</td>\n      <td>0.000000</td>\n      <td>1.200000</td>\n      <td>0.832666</td>\n      <td>1</td>\n      <td>0.6</td>\n      <td>0.6</td>\n      <td>0.0</td>\n      <td>0</td>\n      <td>0.0</td>\n      <td>0</td>\n    </tr>\n    <tr>\n      <th>5</th>\n      <td>6</td>\n      <td>0.133333</td>\n      <td>0.266667</td>\n      <td>0.400000</td>\n      <td>0.066667</td>\n      <td>0.133333</td>\n      <td>0.000000</td>\n      <td>1.800000</td>\n      <td>1.166190</td>\n      <td>2</td>\n      <td>0.8</td>\n      <td>0.8</td>\n      <td>0.0</td>\n      <td>0</td>\n      <td>0.0</td>\n      <td>0</td>\n    </tr>\n    <tr>\n      <th>6</th>\n      <td>6</td>\n      <td>0.066667</td>\n      <td>0.066667</td>\n      <td>0.400000</td>\n      <td>0.333333</td>\n      <td>0.000000</td>\n      <td>0.133333</td>\n      <td>2.533333</td>\n      <td>1.257864</td>\n      <td>2</td>\n      <td>0.8</td>\n      <td>0.8</td>\n      <td>0.2</td>\n      <td>1</td>\n      <td>0.0</td>\n      <td>0</td>\n    </tr>\n    <tr>\n      <th>7</th>\n      <td>6</td>\n      <td>0.066667</td>\n      <td>0.333333</td>\n      <td>0.133333</td>\n      <td>0.200000</td>\n      <td>0.200000</td>\n      <td>0.066667</td>\n      <td>2.333333</td>\n      <td>1.445299</td>\n      <td>1</td>\n      <td>1.0</td>\n      <td>1.0</td>\n      <td>0.2</td>\n      <td>1</td>\n      <td>0.0</td>\n      <td>0</td>\n    </tr>\n    <tr>\n      <th>8</th>\n      <td>6</td>\n      <td>0.000000</td>\n      <td>0.000000</td>\n      <td>0.733333</td>\n      <td>0.000000</td>\n      <td>0.266667</td>\n      <td>0.000000</td>\n      <td>2.533333</td>\n      <td>0.884433</td>\n      <td>2</td>\n      <td>0.8</td>\n      <td>0.8</td>\n      <td>0.6</td>\n      <td>3</td>\n      <td>0.0</td>\n      <td>0</td>\n    </tr>\n    <tr>\n      <th>9</th>\n      <td>6</td>\n      <td>0.000000</td>\n      <td>0.066667</td>\n      <td>0.533333</td>\n      <td>0.200000</td>\n      <td>0.133333</td>\n      <td>0.066667</td>\n      <td>2.600000</td>\n      <td>1.019804</td>\n      <td>2</td>\n      <td>0.8</td>\n      <td>0.8</td>\n      <td>0.6</td>\n      <td>3</td>\n      <td>0.0</td>\n      <td>0</td>\n    </tr>\n  </tbody>\n</table>\n</div>"
     },
     "metadata": {},
     "output_type": "execute_result",
     "execution_count": 36
    }
   ]
  }
 ]
}