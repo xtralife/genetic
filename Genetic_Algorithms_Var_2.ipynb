{
  "nbformat": 4,
  "nbformat_minor": 0,
  "metadata": {
    "colab": {
      "name": "Genetic Algorithms Var 2.ipynb",
      "provenance": [],
      "collapsed_sections": [],
      "toc_visible": true
    },
    "kernelspec": {
      "name": "python3",
      "display_name": "Python 3"
    }
  },
  "cells": [
    {
      "cell_type": "code",
      "metadata": {
        "id": "KmkGCQBG2Vrj",
        "colab_type": "code",
        "colab": {}
      },
      "source": [
        "import math\n",
        "import random\n",
        "import sys\n",
        "import operator\n",
        "from collections import Counter\n",
        "\n",
        "import matplotlib.pyplot as plt \n",
        "\n",
        "import pandas as pd\n",
        "import numpy as np"
      ],
      "execution_count": 0,
      "outputs": []
    },
    {
      "cell_type": "code",
      "metadata": {
        "id": "Z3d5nwNlbnDX",
        "colab_type": "code",
        "colab": {}
      },
      "source": [
        "!rm -rf histograms\n",
        "%mkdir histograms\n",
        "!rm -rf data\n",
        "%mkdir data"
      ],
      "execution_count": 0,
      "outputs": []
    },
    {
      "cell_type": "code",
      "metadata": {
        "id": "WvlifS3E0PEz",
        "colab_type": "code",
        "colab": {}
      },
      "source": [
        "# L = 5\n",
        "# N = 6\n",
        "# ITERATIONS = 10\n",
        "# MUTATION_CHANCE = 0.1\n",
        "# GENE_MASK = []"
      ],
      "execution_count": 0,
      "outputs": []
    },
    {
      "cell_type": "code",
      "metadata": {
        "id": "4fKdue1CgaaW",
        "colab_type": "code",
        "colab": {}
      },
      "source": [
        "def format_bin(lst, length):\n",
        "    return list(map(lambda x: format(x, f'0{length}b'), lst))"
      ],
      "execution_count": 0,
      "outputs": []
    },
    {
      "cell_type": "code",
      "metadata": {
        "id": "RTEfdoyy2GMt",
        "colab_type": "code",
        "outputId": "30ca3c57-9c23-48b3-a8d0-9e3dc71f752c",
        "colab": {
          "base_uri": "https://localhost:8080/",
          "height": 173
        }
      },
      "source": [
        "def get_max_num_for_bits(bits):\n",
        "    result = 0\n",
        "    for i in range(0, bits):\n",
        "        result |= 1 << i\n",
        "    return result\n",
        "\n",
        "print(get_max_num_for_bits(1))\n",
        "print(get_max_num_for_bits(2))\n",
        "print(get_max_num_for_bits(3))\n",
        "print(get_max_num_for_bits(4))\n",
        "print(get_max_num_for_bits(5))\n",
        "print(get_max_num_for_bits(6))\n",
        "print(get_max_num_for_bits(667))\n",
        "print(format_bin([get_max_num_for_bits(667)+1], 670))\n"
      ],
      "execution_count": 0,
      "outputs": [
        {
          "output_type": "stream",
          "text": [
            "1\n",
            "3\n",
            "7\n",
            "15\n",
            "31\n",
            "63\n",
            "612360413832167804618481300175204950565278972827733245154176943827040045789568780701801476101110276210469073715640490142747228062965884323130340172286597179476547016660734615078156785793174374530940927\n",
            "['0010000000000000000000000000000000000000000000000000000000000000000000000000000000000000000000000000000000000000000000000000000000000000000000000000000000000000000000000000000000000000000000000000000000000000000000000000000000000000000000000000000000000000000000000000000000000000000000000000000000000000000000000000000000000000000000000000000000000000000000000000000000000000000000000000000000000000000000000000000000000000000000000000000000000000000000000000000000000000000000000000000000000000000000000000000000000000000000000000000000000000000000000000000000000000000000000000000000000000000000000000000000000000000000000000000000000000000000000000000000000000000000']\n"
          ],
          "name": "stdout"
        }
      ]
    },
    {
      "cell_type": "code",
      "metadata": {
        "id": "nkuT4Z02PLb8",
        "colab_type": "code",
        "colab": {}
      },
      "source": [
        "def should_mutate(Px) -> bool:\n",
        "    return random.random() <= Px\n",
        "\n",
        "def mutate(pool, Px, length):\n",
        "    for i in range(0, len(pool)):\n",
        "        individual = pool[i]\n",
        "        for bit in range(0, length):\n",
        "            if should_mutate(Px):\n",
        "                individual = individual ^ (1 << bit)\n",
        "        pool[i] = individual\n",
        "    return pool\n"
      ],
      "execution_count": 0,
      "outputs": []
    },
    {
      "cell_type": "code",
      "metadata": {
        "id": "a469vBk-NzsI",
        "colab_type": "code",
        "colab": {}
      },
      "source": [
        "def is_bit_set(num, i):\n",
        "    return num & (1 << i) > 0"
      ],
      "execution_count": 0,
      "outputs": []
    },
    {
      "cell_type": "code",
      "metadata": {
        "id": "4vJmyyznOI96",
        "colab_type": "code",
        "colab": {}
      },
      "source": [
        "def count_bits(num):\n",
        "    return bin(num).count(\"1\")"
      ],
      "execution_count": 0,
      "outputs": []
    },
    {
      "cell_type": "code",
      "metadata": {
        "id": "laRGUxyuLdLM",
        "colab_type": "code",
        "outputId": "62eefd9a-1309-4ac7-ad6e-80e8aa68d0cc",
        "colab": {
          "base_uri": "https://localhost:8080/",
          "height": 68
        }
      },
      "source": [
        "def hamming_distance(n1, n2) -> int: \n",
        "    x = n1 ^ n2\n",
        "    return count_bits(x)\n",
        "\n",
        "print(hamming_distance(2, 5) == 3)\n",
        "print(hamming_distance(5, 5) == 0)\n",
        "print(hamming_distance(0, 31) == 5)"
      ],
      "execution_count": 0,
      "outputs": [
        {
          "output_type": "stream",
          "text": [
            "True\n",
            "True\n",
            "True\n"
          ],
          "name": "stdout"
        }
      ]
    },
    {
      "cell_type": "code",
      "metadata": {
        "id": "Z_01_lZ6L14r",
        "colab_type": "code",
        "outputId": "14e879a4-574a-4dfb-d953-402dcec82054",
        "colab": {
          "base_uri": "https://localhost:8080/",
          "height": 51
        }
      },
      "source": [
        "def wild_type(population, length) -> int:\n",
        "    wild_type = 0\n",
        "    for i in range(0, length):\n",
        "        ones = 0\n",
        "        for individ in population:\n",
        "            if is_bit_set(individ, i):\n",
        "                ones += 1\n",
        "        mode = round(float(ones) / len(population))\n",
        "        wild_type |= (mode << i)\n",
        "    return wild_type\n",
        "\n",
        "t1 = wild_type([int('11', 2), int('11', 2)], 5) # 11 -> 3\n",
        "t2 = wild_type([int('110', 2), int('101', 2), int('000', 2)], 5) # 100 -> 4\n",
        "\n",
        "print(t1, bin(t1))\n",
        "print(t2, bin(t2))\n",
        "\n"
      ],
      "execution_count": 0,
      "outputs": [
        {
          "output_type": "stream",
          "text": [
            "3 0b11\n",
            "4 0b100\n"
          ],
          "name": "stdout"
        }
      ]
    },
    {
      "cell_type": "code",
      "metadata": {
        "id": "uhf2tuDoihJt",
        "colab_type": "code",
        "colab": {}
      },
      "source": [
        "global_stat_fields = [\n",
        "                    \"Попарно: Математичне сподівання\",\n",
        "                    \"Попарно: Середнє квадратичне відхилення\",\n",
        "                    \"Попарно: Мода\",\n",
        "                    \"Попарно: Коефіцієнт варіації\",\n",
        "                    \"Попарно: Мінімальне значення\",\n",
        "                    \"Попарно: Максимальне значення\",\n",
        "                    \"Відсоток поліморфних нейтральних генів у популяції\",\n",
        "                    \"Дикий тип: % Поліморфних генів\",\n",
        "                    \"Дикий тип: Кількість поліморфних генів\",\n",
        "                    \"Дикий тип: Математичне сподівання\",\n",
        "                    \"Дикий тип: Середнє квадратичне відхилення\",\n",
        "                    \"Дикий тип: Мода\",\n",
        "                    \"Дикий тип: Коефіцієнт варіації\",\n",
        "                    \"Дикий тип: Мінімальне значення\",\n",
        "                    \"Дикий тип: Максимальне значення\",\n",
        "                    \"Оптимальний: Математичне сподівання\",\n",
        "                    \"Оптимальний: Середнє квадратичне відхилення\",\n",
        "                    \"Оптимальний: Мода\",\n",
        "                    \"Оптимальний: Коефіцієнт варіації\",\n",
        "                    \"Оптимальний: Мінімальне значення\",\n",
        "                    \"Оптимальний: Максимальне значення\",\n",
        "                    \"Модуль різниці середнього здоров’я в популяції від оптимального\",\n",
        "                    \"Модуль різниці найкращого здоров’я в популяції від оптимального\"\n",
        "]\n",
        "\n",
        "def gen_columns(length):\n",
        "    columns = [\"Кількість особин у популяції\"]\n",
        "\n",
        "    for i in range(0, length + 1):\n",
        "        columns.append(\"Попарно: Відстань \" + str(i))\n",
        "    for i in range(0, length + 1):\n",
        "        columns.append(\"Оптимальний: Відстань \" + str(i))\n",
        "    for i in range(0, length + 1):\n",
        "        columns.append(\"Дикий тип: Відстань \" + str(i))\n",
        "    \n",
        "    columns.extend(global_stat_fields)\n",
        "\n",
        "    return columns"
      ],
      "execution_count": 0,
      "outputs": []
    },
    {
      "cell_type": "code",
      "metadata": {
        "id": "reu1vyXcd-ed",
        "colab_type": "code",
        "colab": {}
      },
      "source": [
        "def get_pair_distances(population):\n",
        "    grouped_distances = dict()\n",
        "    total = 0\n",
        "    for row in range(0, len(population)):\n",
        "        for col in range(0, len(population)):\n",
        "            if row == col:\n",
        "                break\n",
        "            distance = hamming_distance(population[row], population[col])\n",
        "            grouped_distances[distance] = grouped_distances.get(distance, 0) + 1\n",
        "            total += 1\n",
        "\n",
        "    return grouped_distances, total\n",
        "\n",
        "def get_population_stats(population, fits, length, title, iteration):\n",
        "    line = dict()\n",
        "    line[\"Кількість особин у популяції\"] = len(population)\n",
        "    pairs, total_pairs = get_pair_distances(population)\n",
        "\n",
        "    for i in range(0, length + 1):\n",
        "        line[f\"Попарно: Відстань {i}\"] = pairs.get(i, 0) / total_pairs if total_pairs > 0 else 0\n",
        "\n",
        "    # Попарно\n",
        "    mean = sum([p[0] * (p[1] / float(total_pairs)) for p in pairs.items()]) if total_pairs > 0 else 0\n",
        "    line[\"Попарно: Математичне сподівання\"] = mean\n",
        "\n",
        "    std = math.sqrt(sum([pow(p[0] - mean, 2) * (p[1] / float(total_pairs)) for p in pairs.items()])) if total_pairs > 0 else 0\n",
        "    line[\"Попарно: Середнє квадратичне відхилення\"] = std\n",
        "\n",
        "    mode = max(pairs.items(), key=operator.itemgetter(1))[0] if len(pairs) > 0 else 0\n",
        "    line[\"Попарно: Мода\"] = mode\n",
        "\n",
        "    cv = std / mean if mean > 0 else std\n",
        "    line[\"Попарно: Коефіцієнт варіації\"] = cv\n",
        "    display(pairs)\n",
        "    min_dist = min(pairs.keys()) if len(pairs) > 0 else 0\n",
        "    line[\"Попарно: Мінімальне значення\"] = min_dist\n",
        "    max_dist = max(pairs.keys()) if len(pairs) > 0 else 0\n",
        "    line[\"Попарно: Максимальне значення\"] = max_dist\n",
        "\n",
        "    #Цільовий\n",
        "    goal_dist = Counter(map(lambda x: hamming_distance(x, 0), population))\n",
        "    total_goal = sum(goal_dist.values())\n",
        "    for i in range(0, length + 1):\n",
        "        line[f\"Оптимальний: Відстань {i}\"] = goal_dist.get(i, 0) / len(population)\n",
        "\n",
        "    goal_mean = sum([p[0] * (p[1] / float(total_goal)) for p in goal_dist.items()]) if total_pairs > 0 else 0\n",
        "    line[\"Оптимальний: Математичне сподівання\"] = mean\n",
        "\n",
        "    goal_std = math.sqrt(sum([pow(p[0] - mean, 2) * (p[1] / float(total_goal)) for p in goal_dist.items()])) if total_goal > 0 else 0\n",
        "    line[\"Оптимальний: Середнє квадратичне відхилення\"] = goal_std\n",
        "\n",
        "    goal_mode = max(goal_dist.items(), key=operator.itemgetter(1))[0] if len(goal_dist) > 0 else 0\n",
        "    line[\"Оптимальний: Мода\"] = goal_mode\n",
        "\n",
        "    goal_cv = goal_std / goal_mean if goal_mean > 0 else goal_std\n",
        "    line[\"Оптимальний: Коефіцієнт варіації\"] = cv\n",
        "    goal_min_dist = min(goal_dist.keys()) if len(goal_dist) > 0 else 0\n",
        "    line[\"Оптимальний: Мінімальне значення\"] = goal_min_dist\n",
        "    goal_max_dist = max(goal_dist.keys()) if len(goal_dist) > 0 else 0\n",
        "    line[\"Оптимальний: Максимальне значення\"] = goal_max_dist\n",
        "\n",
        "    wild = wild_type(population, length)\n",
        "    wild_dist = Counter(map(lambda x: hamming_distance(x, 0), population))\n",
        "    total_wild = sum(wild_dist.values())\n",
        "    for i in range(0, length + 1):\n",
        "        line[f\"Дикий тип: Відстань {i}\"] = wild_dist.get(i, 0) / len(population)\n",
        "\n",
        "    wild_mean = sum([p[0] * (p[1] / float(total_wild)) for p in wild_dist.items()]) if total_pairs > 0 else 0\n",
        "    line[\"Дикий тип: Математичне сподівання\"] = mean\n",
        "\n",
        "    wild_std = math.sqrt(sum([pow(p[0] - mean, 2) * (p[1] / float(total_wild)) for p in wild_dist.items()])) if total_wild > 0 else 0\n",
        "    line[\"Дикий тип: Середнє квадратичне відхилення\"] = wild_std\n",
        "\n",
        "    wild_mode = max(wild_dist.items(), key=operator.itemgetter(1))[0] if len(wild_dist) > 0 else 0\n",
        "    line[\"Дикий тип: Мода\"] = wild_mode\n",
        "\n",
        "    wild_cv = wild_std / wild_mean if wild_mean > 0 else wild_std\n",
        "    line[\"Дикий тип: Коефіцієнт варіації\"] = cv\n",
        "    wild_min_dist = min(wild_dist.keys()) if len(wild_dist) > 0 else 0\n",
        "    line[\"Дикий тип: Мінімальне значення\"] = wild_min_dist\n",
        "    wild_max_dist = max(wild_dist.keys()) if len(wild_dist) > 0 else 0\n",
        "    line[\"Дикий тип: Максимальне значення\"] = wild_max_dist\n",
        "\n",
        "    all_set_bits = 0\n",
        "    for locus in range(0, length):\n",
        "      for ind in population:\n",
        "        if is_bit_set(ind, locus):\n",
        "          all_set_bits |= (1 << locus)\n",
        "          continue\n",
        "\n",
        "    # print(count_bits(all_set_bits), length)\n",
        "    polymorph_bits = count_bits(all_set_bits) / float(length)\n",
        "\n",
        "    line[\"Відсоток поліморфних нейтральних генів у популяції\"] = polymorph_bits\n",
        "\n",
        "    wild_polymorph = count_bits(wild)\n",
        "\n",
        "    line[\"Дикий тип: % Поліморфних генів\"] = wild_polymorph / float(length)\n",
        "    line[\"Дикий тип: Кількість поліморфних генів\"] = wild_polymorph\n",
        "\n",
        "    module_mean = abs((sum(fits) / len(fits)) - fitness(0, length, 1)) #fitness of 0 always = length\n",
        "    module_best = abs(max(fits) - fitness(0, length, 1))\n",
        "\n",
        "    line[\"Модуль різниці середнього здоров’я в популяції від оптимального\"] = module_mean\n",
        "    line[\"Модуль різниці найкращого здоров’я в популяції від оптимального\"] = module_best\n",
        "    ymax=1\n",
        "    xmax=length\n",
        "\n",
        "    fig=plt.figure(figsize=(10,10))\n",
        "    s='''\n",
        "    - i = {}\n",
        "    - відсоток поліморфних генів популяції = {:0.2f}, \n",
        "    - «Дикий тип»: % поліморфних генів = {:0.2f},\n",
        "    - кількість особин в популяції = {:0.2f},\n",
        "    - математичне сподівання = {:0.2f}, \n",
        "    - мода = {:0.2f}, \n",
        "    - середнє квадратичне відхилення = {:0.2f}, \n",
        "    - розмах = {:0.2f} \n",
        "    - коефіцієнт варіації = {:0.2f}.\n",
        "    '''.format(iteration, polymorph_bits, wild_polymorph / float(length), len(population), \n",
        "             mean, mode, std, max_dist - min_dist,  cv )\n",
        "    plt.subplot(3, 1, 1)\n",
        "    plt.gcf().text(0.7, 0.85, s, fontsize=8)\n",
        "    plt.ylim(0, ymax)\n",
        "    plt.xlim(-1, xmax)\n",
        "    plt.bar(pairs.keys(), list(map(lambda x: x / total_pairs, pairs.values())), color='b')\n",
        "    plt.subplot(3, 1, 2)\n",
        "    plt.ylim(0, ymax)\n",
        "    plt.xlim(-1, xmax)\n",
        "    plt.bar(goal_dist.keys(), list(map(lambda x: x / total_goal, goal_dist.values())), color='r')\n",
        "    plt.subplot(3, 1, 3)\n",
        "    plt.ylim(0, ymax)\n",
        "    plt.xlim(-1, xmax)\n",
        "    plt.bar(wild_dist.keys(), list(map(lambda x: x / total_wild, wild_dist.values())), color='g')\n",
        "    plt.savefig(f'histograms/{title}.jpg')\n",
        "    plt.close(fig)\n",
        "\n",
        "    return line\n",
        "\n",
        "def get_global_stats(population_stats_df):\n",
        "  return population_stats_df[[\n",
        "                \"Попарно: Математичне сподівання\",\n",
        "                \"Попарно: Середнє квадратичне відхилення\",\n",
        "                \"Попарно: Мода\",\n",
        "                \"Попарно: Коефіцієнт варіації\",\n",
        "                \"Попарно: Мінімальне значення\",\n",
        "                \"Попарно: Максимальне значення\",\n",
        "                \"Відсоток поліморфних нейтральних генів у популяції\",\n",
        "                \"Дикий тип: % Поліморфних генів\",\n",
        "                \"Дикий тип: Кількість поліморфних генів\",\n",
        "                \"Дикий тип: Математичне сподівання\",\n",
        "                \"Дикий тип: Середнє квадратичне відхилення\",\n",
        "                \"Дикий тип: Мода\",\n",
        "                \"Дикий тип: Коефіцієнт варіації\",\n",
        "                \"Дикий тип: Мінімальне значення\",\n",
        "                \"Дикий тип: Максимальне значення\",\n",
        "                \"Оптимальний: Математичне сподівання\",\n",
        "                \"Оптимальний: Середнє квадратичне відхилення\",\n",
        "                \"Оптимальний: Мода\",\n",
        "                \"Оптимальний: Коефіцієнт варіації\",\n",
        "                \"Оптимальний: Мінімальне значення\",\n",
        "                \"Оптимальний: Максимальне значення\",\n",
        "                \"Модуль різниці середнього здоров’я в популяції від оптимального\",\n",
        "                \"Модуль різниці найкращого здоров’я в популяції від оптимального\"\n",
        "              ]].mean(axis=0)\n"
      ],
      "execution_count": 0,
      "outputs": []
    },
    {
      "cell_type": "code",
      "metadata": {
        "id": "jgGmmMAKkazw",
        "colab_type": "code",
        "colab": {}
      },
      "source": [
        ""
      ],
      "execution_count": 0,
      "outputs": []
    },
    {
      "cell_type": "markdown",
      "metadata": {
        "id": "25pw-LH5N73L",
        "colab_type": "text"
      },
      "source": [
        ""
      ]
    },
    {
      "cell_type": "code",
      "metadata": {
        "id": "jJU7YmdrnOpd",
        "colab_type": "code",
        "colab": {}
      },
      "source": [
        "class Generators:\n",
        "    def one(iter: int):\n",
        "        if iter == 0:\n",
        "            return 1\n",
        "        if iter <= 10:\n",
        "            return 2 * Generators.one(iter - 1)\n",
        "        return Generators.one(10)\n",
        "    def two(iter: int):\n",
        "        if iter == 0:\n",
        "            return 1\n",
        "        if iter <= 35:\n",
        "            prev = Generators.two(iter - 1)\n",
        "            return max(int(prev * 1.25 + 0.5), prev + 1)\n",
        "        return Generators.two(35)\n",
        "\n",
        "    three_helper = dict()\n",
        "\n",
        "    def three(iter: int):\n",
        "        first_limit = 8\n",
        "        second_limit = 3008\n",
        "        if iter == 0:\n",
        "            return 1\n",
        "        if iter > second_limit:\n",
        "            return Generators.three(second_limit)\n",
        "\n",
        "        result = Generators.three_helper.get(iter, -1)\n",
        "        if result != -1:\n",
        "            return result\n",
        "\n",
        "        prev = Generators.three_helper.get(iter - 1, Generators.three(iter - 1))\n",
        "\n",
        "        if iter <= first_limit:\n",
        "            result = 2 * prev\n",
        "            Generators.three_helper[iter] = result\n",
        "            return result\n",
        "\n",
        "        result = max(int(prev * 1.005 + 0.5), prev + 1)\n",
        "        Generators.three_helper[iter] = result\n",
        "        return result\n",
        "    def four(iter: int):\n",
        "        if iter == 0:\n",
        "            return 10\n",
        "        if iter <= 30:\n",
        "            prev = Generators.four(iter - 1)\n",
        "            return max(int(prev * 1.25 + 0.5), prev + 1)\n",
        "        return Generators.four(30)\n",
        "    def five(iter: int):\n",
        "        return Generators.four(iter)\n",
        "    def six(iter: int):\n",
        "        return Generators.four(iter)\n",
        "\n",
        "    seven_helper = dict()\n",
        "\n",
        "    def seven(iter: int):\n",
        "        limit = 3000\n",
        "        if iter == 0:\n",
        "            return 200\n",
        "        if iter > limit:\n",
        "            return Generators.seven(limit)\n",
        "\n",
        "        result = Generators.seven_helper.get(iter, -1)\n",
        "        if result != -1:\n",
        "            return result\n",
        "\n",
        "        prev = Generators.seven_helper.get(iter - 1, Generators.seven(iter - 1))\n",
        "        result = max(int(prev * 1.005 + 0.5), prev + 1)\n",
        "        Generators.seven_helper[iter] = result\n",
        "        return result\n",
        "    def eight(iter: int):\n",
        "        return Generators.seven(iter)\n",
        "    def nine(iter: int):\n",
        "        return Generators.seven(iter)\n",
        "\n",
        "# Generators()\n",
        "\n",
        "class PopulationSizeGenerator:\n",
        "    def __init__(self, option: int):\n",
        "            \n",
        "        __generators = {\n",
        "            1: lambda iter: Generators.one(iter),\n",
        "            2: lambda iter: Generators.two(iter),\n",
        "            3: lambda iter: Generators.three(iter),\n",
        "            4: lambda iter: Generators.four(iter),\n",
        "            5: lambda iter: Generators.five(iter),\n",
        "            6: lambda iter: Generators.six(iter),\n",
        "            7: lambda iter: Generators.seven(iter),\n",
        "            8: lambda iter: Generators.eight(iter),\n",
        "            9: lambda iter: Generators.nine(iter)\n",
        "        }\n",
        "        self.iteration = -1\n",
        "        self.generate = __generators.get(option, lambda x: x);\n",
        "    def get_next(self) -> int:\n",
        "        self.iteration += 1\n",
        "        return self.generate(self.iteration)\n"
      ],
      "execution_count": 0,
      "outputs": []
    },
    {
      "cell_type": "code",
      "metadata": {
        "id": "_X8cjZ-sozTK",
        "colab_type": "code",
        "outputId": "27930c91-087d-4dda-9ec8-2b1341462b88",
        "colab": {
          "base_uri": "https://localhost:8080/",
          "height": 357
        }
      },
      "source": [
        "def population(iterations=20000):\n",
        "    print(f'Population with {iterations} iterations')\n",
        "    for i in range(1, 10):\n",
        "        gen = PopulationSizeGenerator(i)\n",
        "        for j in range(0, iterations):\n",
        "            gen.get_next()\n",
        "        print(f\"Option: {i}. Population: {gen.get_next()}\")\n",
        "\n",
        "population()\n",
        "population(2000)"
      ],
      "execution_count": 0,
      "outputs": [
        {
          "output_type": "stream",
          "text": [
            "Population with 20000 iterations\n",
            "Option: 1. Population: 1024\n",
            "Option: 2. Population: 5299\n",
            "Option: 3. Population: 770588176\n",
            "Option: 4. Population: 8280\n",
            "Option: 5. Population: 8280\n",
            "Option: 6. Population: 8280\n",
            "Option: 7. Population: 582804478\n",
            "Option: 8. Population: 582804478\n",
            "Option: 9. Population: 582804478\n",
            "Population with 2000 iterations\n",
            "Option: 1. Population: 1024\n",
            "Option: 2. Population: 5299\n",
            "Option: 3. Population: 5051640\n",
            "Option: 4. Population: 8280\n",
            "Option: 5. Population: 8280\n",
            "Option: 6. Population: 8280\n",
            "Option: 7. Population: 3976139\n",
            "Option: 8. Population: 3976139\n",
            "Option: 9. Population: 3976139\n"
          ],
          "name": "stdout"
        }
      ]
    },
    {
      "cell_type": "code",
      "metadata": {
        "id": "Cq_EcaOpAfc3",
        "colab_type": "code",
        "colab": {}
      },
      "source": [
        "#Refactor to be generic\n",
        "# def simulation():\n",
        "#     pool = initial_pool(N, \"zeroes\")\n",
        "#     df = pd.DataFrame(columns=stat_columns)\n",
        "\n",
        "#     for i in range(0, ITERATIONS):\n",
        "\n",
        "#         print(\"Iteration \", i)\n",
        "#         fits = []\n",
        "#         for ind in pool:\n",
        "#             fit = fitness(ind, L)\n",
        "#             fits.append(fit)\n",
        "    \n",
        "#         print(\"Fitnesses: \", fits)\n",
        "    \n",
        "#         stats = get_population_stats(pool, fits, L)\n",
        "#         df = df.append(stats, ignore_index=True)\n",
        "\n",
        "#         new_pool = rws(pool, fits, N)\n",
        "#         print(\"Selected pool:  \", format_bin(new_pool))\n",
        "#         new_pool = mutate(new_pool, MUTATION_CHANCE, L)\n",
        "#         print(\"After mutation: \", format_bin(new_pool))\n",
        "\n",
        "#         pool = new_pool\n",
        "#     return df"
      ],
      "execution_count": 0,
      "outputs": []
    },
    {
      "cell_type": "code",
      "metadata": {
        "id": "TliM5dChrs49",
        "colab_type": "code",
        "outputId": "4d56b398-cdea-41a3-ba29-89f48be21322",
        "colab": {
          "base_uri": "https://localhost:8080/",
          "height": 173
        }
      },
      "source": [
        "# Add neutral, pathogen, lethal consideration\n",
        "# Option 1 - fitness = length; Option 2 - Calculation of neutral, pathogenic, lethal locus\n",
        "GENE_MASKS = dict()\n",
        "NEUTRAL_MASK = 0\n",
        "PATHOGENIC_MASK = 1\n",
        "LETHAL_MASK = 2\n",
        "\n",
        "def load_gene_masks(length):\n",
        "    print(f\"Importing npl_{length}.csv\")\n",
        "    df = pd.read_csv(f\"npl_{length}.csv\")\n",
        "    GENE_MASKS[length] = df[f\"npl_{length}\"].tolist()\n",
        "    print(GENE_MASKS[length])\n",
        "\n",
        "for i in (100, 200, 1000, 2000):\n",
        "    load_gene_masks(i)\n",
        "\n",
        "def count_genes(gene_mask, mask_type):\n",
        "    count = 0\n",
        "    for bit in gene_mask:\n",
        "        if bit == mask_type:\n",
        "            count += 1\n",
        "    return count\n",
        "\n",
        "# print(f'Count lethal: {count_genes(GENE_MASKS.get(100), LETHAL_MASK)}')\n",
        "\n",
        "def fitness(individ, length, option):\n",
        "    if option == 1:\n",
        "        return length\n",
        "    if option != 2:\n",
        "        raise SyntaxError(f\"No such option for fitness: {option}\")\n",
        "    \n",
        "    if GENE_MASKS.get(length, 0) == 0:\n",
        "        load_gene_masks(length)\n",
        "    \n",
        "    gene_mask = GENE_MASKS.get(length)\n",
        "    fitness = length\n",
        "    #TODO: Refactor to use binary logical operators\n",
        "    for i in range(0, length):\n",
        "        if is_bit_set(individ, i) and gene_mask[length - i - 1] == LETHAL_MASK:\n",
        "            return 0.1\n",
        "        if is_bit_set(individ, i) and gene_mask[length - i - 1] == PATHOGENIC_MASK:\n",
        "            fitness -= 10\n",
        "\n",
        "    return fitness\n",
        "\n",
        "# print(fitness(512 , 100, 2)) #100\n",
        "# print(fitness(1024 , 100, 2)) #0.1\n",
        "# print(fitness(2048 , 100, 2)) #100\n",
        "# print(fitness(4096 , 100, 2)) #0.1\n"
      ],
      "execution_count": 0,
      "outputs": [
        {
          "output_type": "stream",
          "text": [
            "Importing npl_100.csv\n",
            "[0, 0, 0, 0, 0, 0, 2, 2, 2, 2, 2, 1, 0, 0, 2, 2, 1, 2, 2, 2, 2, 0, 2, 0, 2, 2, 0, 2, 0, 2, 2, 2, 0, 2, 2, 2, 2, 2, 0, 2, 2, 0, 2, 2, 2, 0, 0, 0, 2, 2, 0, 2, 0, 2, 0, 2, 2, 2, 0, 0, 0, 2, 2, 0, 0, 2, 2, 2, 2, 0, 0, 2, 0, 0, 2, 2, 0, 0, 2, 2, 0, 2, 2, 0, 0, 2, 0, 2, 0, 2, 0, 0, 0, 2, 2, 2, 2, 0, 2, 2]\n",
            "Importing npl_200.csv\n",
            "[0, 0, 0, 0, 0, 0, 0, 0, 0, 0, 0, 2, 2, 2, 0, 1, 2, 2, 0, 2, 2, 0, 0, 2, 2, 2, 2, 2, 2, 2, 2, 2, 0, 2, 0, 2, 0, 0, 0, 2, 2, 0, 2, 2, 2, 2, 2, 0, 1, 0, 2, 2, 0, 2, 0, 2, 2, 0, 2, 0, 0, 0, 0, 0, 2, 2, 2, 0, 2, 0, 2, 0, 0, 2, 0, 2, 2, 0, 2, 2, 2, 1, 2, 2, 2, 0, 2, 2, 2, 0, 1, 2, 0, 0, 0, 2, 1, 0, 2, 2, 2, 0, 2, 2, 2, 0, 2, 2, 0, 0, 0, 2, 0, 2, 0, 2, 2, 2, 0, 0, 0, 2, 2, 0, 2, 0, 2, 2, 2, 2, 2, 2, 0, 0, 2, 0, 2, 2, 2, 2, 2, 2, 2, 0, 0, 2, 2, 0, 2, 2, 2, 2, 0, 2, 0, 2, 2, 0, 0, 0, 2, 2, 2, 2, 0, 2, 2, 2, 2, 2, 0, 0, 0, 0, 0, 0, 0, 0, 2, 0, 0, 2, 2, 2, 2, 2, 2, 2, 0, 0, 2, 2, 0, 2, 2, 0, 2, 0, 2, 0]\n",
            "Importing npl_1000.csv\n",
            "[0, 0, 0, 0, 0, 0, 0, 0, 0, 0, 0, 0, 0, 0, 0, 0, 0, 0, 0, 0, 0, 0, 0, 0, 0, 0, 0, 0, 0, 0, 0, 0, 0, 0, 0, 0, 0, 0, 0, 0, 0, 0, 0, 0, 0, 0, 0, 0, 0, 0, 0, 0, 0, 1, 2, 0, 2, 2, 1, 2, 2, 0, 0, 2, 0, 0, 2, 0, 0, 2, 0, 2, 0, 0, 0, 2, 0, 0, 2, 2, 2, 0, 2, 2, 2, 0, 2, 0, 2, 0, 2, 2, 2, 0, 0, 0, 2, 2, 0, 2, 0, 0, 2, 2, 2, 2, 2, 2, 0, 0, 2, 2, 0, 0, 2, 2, 2, 2, 2, 2, 2, 0, 2, 2, 2, 0, 2, 2, 0, 0, 2, 2, 2, 0, 2, 0, 2, 0, 0, 0, 2, 2, 2, 2, 2, 2, 2, 2, 0, 2, 2, 0, 0, 0, 2, 0, 2, 2, 0, 2, 2, 2, 2, 0, 0, 2, 2, 2, 0, 0, 2, 0, 2, 0, 0, 2, 0, 2, 2, 2, 0, 2, 2, 0, 2, 2, 2, 0, 1, 0, 2, 0, 0, 2, 2, 2, 2, 2, 2, 2, 2, 0, 0, 0, 2, 2, 2, 0, 0, 2, 0, 2, 2, 2, 0, 2, 2, 2, 0, 2, 2, 2, 2, 2, 2, 2, 0, 2, 2, 0, 0, 2, 0, 2, 0, 1, 0, 0, 2, 2, 2, 0, 2, 0, 2, 2, 2, 1, 2, 2, 2, 2, 2, 2, 0, 0, 2, 2, 0, 0, 0, 0, 0, 2, 2, 2, 2, 2, 0, 2, 2, 2, 2, 2, 2, 2, 0, 2, 0, 0, 0, 0, 0, 0, 2, 2, 1, 2, 2, 2, 0, 0, 2, 0, 2, 0, 1, 0, 0, 0, 2, 0, 2, 2, 2, 0, 0, 2, 0, 0, 2, 0, 2, 0, 0, 0, 2, 2, 0, 0, 0, 0, 0, 2, 2, 2, 2, 0, 2, 1, 0, 2, 0, 2, 0, 1, 0, 0, 0, 2, 2, 0, 2, 2, 2, 2, 2, 2, 2, 0, 0, 2, 2, 2, 2, 0, 2, 2, 2, 0, 2, 2, 2, 2, 0, 2, 2, 2, 2, 2, 0, 2, 2, 2, 0, 2, 2, 0, 2, 1, 2, 2, 0, 2, 0, 0, 2, 0, 2, 2, 2, 0, 2, 2, 0, 2, 2, 0, 2, 2, 2, 2, 2, 0, 0, 2, 1, 0, 0, 2, 0, 2, 2, 0, 2, 2, 2, 2, 1, 0, 0, 2, 0, 0, 2, 2, 2, 0, 0, 0, 2, 2, 2, 2, 2, 2, 1, 2, 0, 0, 2, 2, 0, 0, 0, 2, 2, 2, 0, 2, 0, 2, 2, 2, 2, 2, 0, 2, 2, 0, 0, 0, 2, 2, 2, 0, 2, 2, 0, 2, 2, 2, 0, 2, 2, 2, 2, 2, 2, 2, 0, 0, 2, 2, 2, 0, 2, 2, 2, 0, 0, 0, 0, 0, 0, 2, 2, 2, 0, 2, 2, 2, 0, 2, 2, 0, 2, 0, 2, 2, 2, 2, 2, 0, 2, 0, 0, 0, 0, 2, 2, 0, 2, 0, 0, 2, 2, 0, 0, 0, 2, 2, 2, 2, 2, 2, 0, 2, 2, 2, 2, 2, 0, 2, 2, 2, 2, 0, 2, 0, 2, 2, 0, 0, 0, 2, 0, 0, 2, 0, 2, 2, 0, 2, 2, 0, 2, 2, 2, 0, 2, 2, 0, 2, 0, 2, 2, 2, 0, 2, 0, 2, 0, 2, 0, 0, 2, 2, 2, 0, 2, 2, 0, 0, 2, 2, 2, 2, 1, 2, 0, 0, 2, 2, 2, 0, 0, 2, 0, 0, 2, 2, 2, 2, 0, 2, 0, 2, 2, 2, 2, 2, 0, 2, 0, 1, 1, 2, 2, 2, 2, 2, 0, 2, 0, 0, 2, 2, 2, 0, 0, 0, 0, 2, 2, 2, 0, 2, 1, 2, 2, 0, 0, 2, 2, 2, 2, 2, 0, 0, 1, 0, 2, 0, 0, 2, 2, 2, 2, 0, 0, 2, 2, 0, 2, 0, 2, 2, 2, 2, 2, 2, 2, 1, 0, 0, 2, 2, 0, 1, 2, 0, 2, 2, 0, 2, 2, 2, 2, 2, 0, 2, 2, 2, 2, 0, 2, 2, 2, 2, 0, 0, 2, 0, 2, 2, 0, 0, 2, 0, 0, 2, 0, 2, 2, 2, 0, 0, 0, 2, 2, 0, 2, 0, 2, 2, 2, 0, 0, 2, 0, 0, 2, 2, 2, 2, 2, 2, 2, 0, 2, 2, 2, 2, 2, 2, 0, 0, 0, 2, 2, 2, 0, 2, 2, 2, 2, 0, 2, 0, 2, 2, 2, 0, 2, 2, 0, 2, 0, 2, 0, 2, 0, 0, 2, 2, 2, 0, 1, 0, 2, 2, 2, 2, 0, 0, 2, 0, 2, 0, 2, 0, 2, 2, 0, 0, 0, 2, 2, 2, 0, 0, 0, 0, 2, 0, 2, 2, 0, 2, 0, 2, 2, 0, 2, 2, 2, 2, 2, 2, 0, 2, 2, 2, 2, 2, 0, 1, 0, 0, 2, 0, 2, 2, 2, 2, 2, 0, 0, 0, 2, 2, 2, 0, 2, 0, 0, 0, 2, 0, 2, 2, 0, 0, 2, 2, 2, 0, 2, 2, 2, 0, 2, 2, 0, 2, 0, 0, 0, 2, 0, 2, 2, 2, 2, 0, 2, 2, 0, 2, 2, 2, 2, 0, 0, 0, 1, 0, 0, 2, 2, 2, 0, 0, 2, 2, 0, 0, 0, 2, 0, 2, 2, 2, 2, 0, 0, 2, 2, 0, 0, 0, 0, 0, 2, 2, 2, 2, 2, 2, 2, 0, 2, 2, 2, 0, 0, 0, 2, 2, 0, 0, 0, 2, 2, 0, 2, 0, 0, 2, 2, 2, 2, 0, 0, 0, 2, 2, 2, 2, 2, 0, 0, 2, 2, 0, 0, 2, 0, 0, 2, 2, 2, 2, 0, 2, 2, 2, 2, 2, 2, 2, 0, 2, 0, 2, 0, 2, 0, 2, 2, 2, 2, 2, 0, 2, 2, 2, 0, 2]\n",
            "Importing npl_2000.csv\n",
            "[0, 0, 0, 0, 0, 0, 0, 0, 0, 0, 0, 0, 0, 0, 0, 0, 0, 0, 0, 0, 0, 0, 0, 0, 0, 0, 0, 0, 0, 0, 0, 0, 0, 0, 0, 0, 0, 0, 0, 0, 0, 0, 0, 0, 0, 0, 0, 0, 0, 0, 0, 0, 0, 0, 0, 0, 0, 0, 0, 0, 0, 0, 0, 0, 0, 0, 0, 0, 0, 0, 0, 0, 0, 0, 0, 0, 0, 0, 0, 0, 0, 0, 0, 0, 0, 0, 0, 0, 0, 0, 0, 0, 0, 0, 0, 0, 0, 0, 0, 0, 0, 0, 0, 0, 0, 0, 2, 2, 2, 0, 0, 2, 2, 0, 0, 2, 2, 0, 0, 2, 2, 2, 2, 0, 2, 0, 2, 0, 0, 2, 2, 2, 0, 2, 2, 2, 0, 0, 2, 1, 0, 2, 2, 2, 2, 2, 0, 2, 2, 0, 0, 0, 0, 2, 2, 2, 2, 0, 2, 2, 0, 2, 2, 2, 2, 0, 2, 2, 0, 0, 2, 1, 2, 0, 2, 0, 2, 2, 2, 0, 0, 0, 0, 0, 2, 0, 2, 2, 0, 2, 2, 2, 2, 2, 2, 2, 2, 2, 2, 2, 2, 2, 2, 0, 0, 0, 2, 2, 2, 2, 2, 2, 2, 0, 0, 2, 0, 2, 0, 0, 0, 0, 0, 2, 0, 0, 2, 0, 0, 2, 0, 0, 2, 0, 0, 2, 0, 2, 0, 2, 2, 2, 2, 2, 0, 0, 2, 2, 2, 2, 0, 2, 2, 2, 2, 2, 0, 2, 0, 2, 0, 2, 2, 2, 2, 0, 0, 0, 2, 0, 0, 2, 2, 2, 0, 0, 0, 2, 0, 0, 2, 2, 0, 2, 0, 0, 2, 0, 0, 2, 0, 0, 2, 2, 0, 0, 2, 0, 2, 2, 2, 2, 2, 0, 2, 0, 2, 2, 0, 2, 0, 0, 2, 0, 0, 2, 0, 0, 0, 0, 2, 2, 0, 0, 2, 2, 2, 0, 2, 2, 0, 2, 0, 2, 0, 0, 0, 2, 0, 2, 2, 0, 0, 0, 2, 2, 0, 0, 2, 2, 2, 2, 2, 0, 2, 0, 2, 2, 2, 2, 0, 0, 2, 0, 0, 2, 2, 2, 2, 0, 2, 0, 0, 0, 0, 2, 0, 0, 2, 2, 0, 2, 0, 2, 2, 0, 0, 0, 2, 0, 0, 2, 2, 0, 0, 2, 2, 0, 2, 0, 2, 2, 2, 2, 2, 2, 0, 0, 2, 0, 0, 0, 0, 2, 2, 2, 0, 0, 2, 2, 2, 0, 0, 2, 2, 2, 2, 0, 2, 2, 0, 2, 2, 0, 2, 2, 0, 2, 2, 2, 2, 2, 2, 2, 2, 2, 0, 2, 0, 2, 2, 2, 0, 2, 2, 2, 2, 0, 2, 2, 2, 2, 2, 2, 2, 0, 0, 2, 2, 0, 0, 2, 0, 0, 0, 0, 0, 2, 2, 2, 2, 0, 2, 0, 1, 2, 2, 0, 0, 0, 2, 1, 2, 2, 2, 2, 0, 2, 2, 0, 2, 2, 0, 2, 0, 1, 0, 0, 0, 0, 0, 0, 2, 0, 0, 2, 2, 2, 0, 2, 0, 2, 2, 0, 2, 2, 0, 2, 0, 2, 2, 1, 2, 0, 0, 0, 2, 0, 2, 2, 2, 0, 2, 2, 2, 0, 0, 0, 2, 2, 2, 2, 2, 2, 2, 2, 1, 0, 0, 2, 2, 2, 2, 2, 0, 2, 2, 2, 0, 2, 2, 2, 0, 2, 1, 2, 0, 0, 0, 2, 2, 2, 2, 2, 2, 2, 0, 0, 0, 0, 0, 2, 0, 0, 2, 1, 2, 2, 2, 0, 2, 2, 0, 0, 0, 2, 0, 2, 0, 2, 0, 0, 0, 2, 1, 2, 2, 0, 0, 2, 2, 2, 2, 2, 2, 2, 2, 0, 1, 0, 2, 0, 2, 2, 2, 0, 0, 2, 2, 0, 2, 2, 2, 0, 2, 2, 2, 2, 0, 2, 1, 2, 0, 2, 2, 0, 2, 2, 2, 0, 0, 2, 0, 2, 0, 2, 2, 2, 2, 0, 2, 2, 2, 2, 2, 2, 2, 2, 0, 2, 2, 0, 2, 2, 0, 2, 0, 0, 0, 2, 0, 2, 0, 0, 0, 2, 0, 2, 0, 2, 0, 0, 0, 2, 0, 0, 2, 0, 2, 2, 2, 0, 2, 2, 0, 0, 0, 0, 2, 1, 2, 2, 0, 0, 2, 2, 0, 2, 2, 0, 2, 2, 0, 0, 0, 2, 0, 0, 2, 0, 2, 2, 0, 2, 0, 2, 2, 2, 2, 0, 0, 0, 0, 2, 0, 0, 0, 2, 0, 0, 0, 2, 0, 2, 2, 2, 0, 0, 2, 0, 2, 0, 2, 2, 0, 2, 2, 0, 2, 0, 0, 1, 2, 0, 2, 0, 0, 2, 0, 0, 2, 2, 0, 2, 2, 2, 0, 2, 0, 2, 2, 2, 0, 2, 2, 0, 2, 2, 0, 2, 0, 1, 2, 2, 0, 2, 2, 2, 2, 2, 2, 2, 0, 2, 0, 2, 0, 0, 2, 2, 2, 0, 0, 0, 2, 0, 2, 2, 2, 2, 2, 2, 2, 0, 2, 2, 2, 0, 0, 2, 2, 0, 2, 0, 2, 2, 2, 0, 0, 0, 0, 2, 2, 2, 0, 0, 2, 0, 2, 2, 0, 2, 2, 2, 2, 0, 2, 2, 2, 2, 2, 2, 0, 2, 0, 2, 2, 2, 2, 2, 0, 2, 2, 2, 0, 2, 0, 2, 0, 0, 2, 2, 0, 2, 2, 2, 2, 0, 2, 2, 1, 2, 0, 2, 2, 0, 2, 0, 0, 0, 2, 0, 0, 0, 2, 0, 2, 2, 2, 2, 2, 2, 2, 2, 2, 0, 0, 2, 0, 2, 2, 2, 2, 2, 0, 2, 0, 2, 2, 2, 0, 0, 0, 2, 2, 2, 2, 2, 2, 2, 0, 2, 2, 2, 2, 0, 2, 2, 2, 2, 2, 2, 2, 2, 2, 2, 0, 2, 0, 2, 2, 2, 2, 2, 2, 2, 2, 2, 2, 0, 0, 2, 1, 2, 2, 2, 0, 2, 2, 2, 2, 2, 1, 0, 1, 2, 0, 0, 2, 2, 2, 0, 2, 2, 2, 2, 2, 0, 0, 0, 0, 0, 0, 2, 2, 2, 2, 0, 2, 2, 2, 1, 1, 0, 2, 2, 0, 2, 2, 2, 2, 2, 0, 0, 2, 0, 2, 0, 0, 2, 2, 2, 2, 2, 0, 2, 0, 0, 2, 2, 2, 0, 2, 0, 2, 2, 1, 2, 2, 0, 2, 2, 2, 2, 0, 0, 2, 0, 2, 0, 2, 2, 0, 0, 2, 0, 0, 0, 0, 0, 0, 0, 0, 1, 2, 2, 2, 0, 2, 2, 2, 2, 0, 0, 0, 2, 0, 2, 2, 2, 2, 2, 2, 2, 0, 2, 2, 0, 2, 2, 2, 0, 2, 2, 1, 2, 2, 0, 2, 0, 2, 2, 0, 0, 2, 0, 2, 2, 2, 0, 2, 2, 2, 2, 0, 2, 0, 2, 2, 2, 2, 2, 0, 0, 0, 2, 0, 2, 2, 0, 2, 2, 2, 2, 0, 0, 2, 0, 2, 2, 2, 0, 2, 0, 0, 2, 2, 2, 0, 2, 2, 2, 0, 2, 0, 2, 2, 2, 2, 2, 2, 0, 2, 0, 2, 2, 2, 2, 0, 0, 2, 2, 0, 0, 2, 0, 2, 2, 0, 2, 0, 0, 0, 0, 0, 2, 1, 2, 0, 2, 2, 2, 0, 0, 2, 2, 2, 2, 2, 0, 2, 1, 0, 2, 2, 0, 0, 2, 2, 2, 2, 2, 2, 0, 0, 2, 0, 2, 2, 2, 2, 2, 2, 0, 2, 2, 0, 2, 2, 2, 0, 2, 2, 2, 2, 0, 2, 2, 0, 0, 0, 0, 2, 0, 2, 0, 0, 2, 0, 2, 2, 2, 0, 0, 2, 2, 2, 2, 2, 0, 2, 1, 0, 0, 0, 2, 2, 1, 2, 0, 0, 0, 0, 2, 2, 2, 2, 2, 2, 0, 2, 2, 2, 2, 2, 0, 2, 2, 0, 2, 0, 2, 0, 0, 2, 0, 0, 0, 2, 2, 0, 0, 0, 2, 2, 2, 0, 2, 0, 0, 2, 0, 0, 0, 2, 0, 2, 0, 2, 2, 0, 2, 0, 2, 2, 2, 2, 0, 2, 2, 2, 2, 2, 2, 2, 0, 2, 2, 2, 2, 2, 2, 2, 2, 2, 2, 0, 0, 0, 2, 0, 2, 2, 2, 2, 0, 0, 2, 0, 0, 2, 2, 0, 2, 0, 0, 0, 2, 2, 0, 2, 2, 2, 0, 0, 2, 2, 2, 0, 2, 2, 2, 2, 2, 0, 2, 0, 2, 2, 0, 2, 2, 2, 2, 2, 2, 0, 2, 2, 2, 0, 0, 2, 2, 0, 2, 2, 2, 0, 2, 2, 2, 2, 0, 0, 2, 0, 2, 0, 2, 1, 2, 2, 0, 2, 0, 0, 0, 2, 2, 2, 2, 0, 0, 0, 2, 2, 2, 2, 2, 2, 0, 2, 0, 2, 2, 2, 2, 2, 1, 0, 2, 2, 0, 2, 0, 2, 2, 0, 2, 2, 2, 0, 2, 2, 0, 0, 0, 2, 2, 0, 0, 2, 2, 0, 2, 2, 2, 2, 0, 2, 2, 0, 1, 0, 2, 0, 2, 0, 0, 2, 0, 2, 2, 0, 0, 0, 2, 2, 2, 2, 0, 2, 2, 2, 0, 0, 2, 0, 2, 0, 2, 0, 2, 2, 2, 2, 2, 0, 2, 2, 2, 1, 0, 2, 0, 2, 2, 0, 2, 2, 2, 2, 2, 0, 0, 2, 2, 2, 0, 2, 0, 0, 2, 2, 0, 2, 2, 2, 0, 2, 0, 0, 2, 2, 0, 0, 0, 2, 2, 2, 2, 0, 2, 2, 0, 2, 0, 0, 2, 0, 0, 2, 2, 2, 0, 2, 0, 2, 2, 2, 0, 2, 0, 2, 2, 0, 0, 1, 2, 0, 2, 0, 2, 0, 2, 2, 2, 2, 2, 2, 0, 2, 2, 0, 0, 0, 0, 2, 0, 2, 2, 0, 0, 0, 2, 0, 2, 0, 2, 2, 0, 0, 2, 0, 2, 2, 2, 2, 2, 0, 2, 0, 2, 2, 0, 0, 0, 2, 0, 0, 0, 2, 0, 2, 2, 2, 0, 2, 2, 2, 0, 0, 2, 0, 2, 2, 1, 0, 2, 2, 2, 0, 0, 2, 2, 2, 2, 0, 2, 2, 1, 0, 2, 2, 2, 2, 2, 2, 2, 0, 2, 1, 2, 0, 2, 2, 0, 2, 2, 0, 2, 2, 2, 0, 2, 0, 2, 0, 0, 2, 0, 0, 2, 2, 0, 2, 2, 0, 2, 2, 2, 2, 0, 0, 2, 2, 2, 2, 2, 2, 2, 0, 0, 2, 0, 0, 2, 2, 2, 2, 2, 2, 2, 2, 2, 2, 0, 2, 0, 2, 2, 2, 2, 2, 0, 2, 1, 0, 2, 2, 2, 0, 0, 2, 2, 2, 0, 2, 2, 2, 0, 0, 2, 2, 2, 1, 0, 2, 2, 0, 2, 0, 2, 2, 2, 2, 1, 0, 2, 0, 0, 0, 2, 2, 2, 2, 0, 2, 2, 2, 0, 1, 2, 0, 0, 0, 2, 0, 1, 0, 0, 2, 2, 2, 2, 2, 0, 0, 2, 0, 2, 0, 2, 2, 0, 2, 0, 2, 2, 1, 0, 2, 2, 2, 2, 2, 1, 2, 2, 2, 0, 0, 2, 0, 0, 2, 0, 2, 2, 2, 2, 1, 2, 2, 2, 0, 0, 2, 0, 2, 0, 1, 0, 2, 2, 2, 2, 2, 0, 0, 0, 2, 0, 2, 0, 0, 2, 2, 2, 2, 0, 2, 2, 0, 0, 0, 2, 2, 2, 2, 2, 0, 2, 0, 2, 0, 0, 0, 0, 2, 2, 0, 2, 2, 0, 2, 2, 2, 2, 0, 2, 0, 2, 2, 2, 2, 0, 2, 0, 2, 0, 2, 2, 0, 0, 2, 2, 0, 2, 2, 0, 0, 0, 0, 2, 2, 0, 2, 2, 0, 2, 2, 2, 0, 2, 2, 2, 2, 0, 2, 0, 2, 2, 0, 2, 2, 2, 2, 2, 2, 0, 0, 2, 0, 2, 0, 2, 2, 2, 0, 0, 2, 2, 2, 2, 2, 0, 2, 1]\n"
          ],
          "name": "stdout"
        }
      ]
    },
    {
      "cell_type": "code",
      "metadata": {
        "id": "OYC7aX7HqPdH",
        "colab_type": "code",
        "colab": {}
      },
      "source": [
        "def calc_fits(pool, length, option):\n",
        "    fits = []\n",
        "    for ind in pool:\n",
        "        fit = fitness(ind, length, option)\n",
        "        fits.append(fit)\n",
        "    return fits"
      ],
      "execution_count": 0,
      "outputs": []
    },
    {
      "cell_type": "code",
      "metadata": {
        "id": "K76k1dcNr2nn",
        "colab_type": "code",
        "colab": {}
      },
      "source": [
        "def select_non_lethal(pool, fit):\n",
        "    new_pool = []\n",
        "    new_fit = []\n",
        "    for i in range(0, len(pool)):\n",
        "        if fit[i] <= 0.1:\n",
        "            continue\n",
        "        new_pool.append(pool[i])\n",
        "        new_fit.append(fit[i])\n",
        "\n",
        "    return new_pool, new_fit"
      ],
      "execution_count": 0,
      "outputs": []
    },
    {
      "cell_type": "code",
      "metadata": {
        "id": "59HzC1p86bj-",
        "colab_type": "code",
        "colab": {}
      },
      "source": [
        "def init_unit_normal(mu, sigma, length, fitness_option):\n",
        "    hamming = int(abs(np.random.normal(mu, sigma)) + 0.5)\n",
        "    # print(f'Hamming: {hamming}')\n",
        "    if fitness_option == 1:\n",
        "        gene_mask = []\n",
        "        for i in range(0, length):\n",
        "            gene_mask.append(0)\n",
        "    else:\n",
        "        gene_mask = GENE_MASKS.get(length)\n",
        "    # print(f'Mask: {gene_mask}')\n",
        "    non_lethal_genes_count = len(gene_mask) - count_genes(gene_mask, LETHAL_MASK)\n",
        "    # print(f'Non lethal count: {non_lethal_genes_count}')\n",
        "    mutation_bits = np.random.choice(non_lethal_genes_count, hamming, replace=False)\n",
        "    # print(f'Mutation bits: {mutation_bits}')\n",
        "    unit = 0\n",
        "    for i in mutation_bits:\n",
        "        bit_to_mutate = -1\n",
        "        bit_counter = 0\n",
        "        while bit_counter <= i:\n",
        "            bit_to_mutate += 1\n",
        "            if gene_mask[bit_to_mutate] != LETHAL_MASK:\n",
        "                bit_counter +=1\n",
        "        # print(f'For bit {i}, skipped {bit_to_mutate - i} lethal bits. Setting bit: {bit_to_mutate}')\n",
        "        unit += 1 << (length - bit_to_mutate - 1)\n",
        "    if hamming_distance(0, unit) != hamming:\n",
        "        raise SyntaxError(f\"Error in init_unit_normal. Wrong hamming distance. mu: {mu}, sigma: {sigma}, length: {length}, fitness_option: {fitness_option}\")\n",
        "    if fitness(unit, length, fitness_option) <= 0.1:\n",
        "        # print(f\"Error in init_unit_normal. Lethal mutation. mu: {mu}, sigma: {sigma}, length: {length}, fitness_option: {fitness_option}\")\n",
        "        raise SyntaxError(f\"Error in init_unit_normal. Lethal mutation. mu: {mu}, sigma: {sigma}, length: {length}, fitness_option: {fitness_option}\")\n",
        "    return unit\n",
        "\n",
        "# for i in range(0, 10):\n",
        "#     length = 100\n",
        "#     option = 2\n",
        "#     unit = init_unit_normal(0, 1, length, option)\n",
        "#     print(f'Unit: {format_bin([unit], length)}, Fitness: {fitness(unit, length, option)}, Unit (dec): {unit}')\n",
        "\n",
        "def init_unit(length: int, distribution_option: str, fitness_option: int) -> int:\n",
        "    options = {\n",
        "        \"zero\": lambda ln, opt: 0,\n",
        "        # How to make correct normal distribution ???\n",
        "        \"normal_st\": lambda ln, opt: init_unit_normal(0, 1, ln, opt),\n",
        "        \"normal_0_3\": lambda ln, opt: init_unit_normal(0, 3, ln, opt),\n",
        "        \"normal_0.76_1\": lambda ln, opt: init_unit_normal(0.76, 1, ln, opt),\n",
        "    }\n",
        "    print(f\"Length: {length}, Distribution option: {distribution_option}\")\n",
        "    return options.get(distribution_option)(length, fitness_option)\n",
        "\n",
        "def init_pool(length: int, size: int, distribution_option: str, fitness_option: int):\n",
        "    print(\"Initialing pool\")\n",
        "    pool = []\n",
        "    for i in range(0, size):\n",
        "        print(f\"Generationg {i + 1} of {size}\")\n",
        "        selected = False\n",
        "        while not selected:\n",
        "            unit = init_unit(length, distribution_option, fitness_option)\n",
        "            print(f\"Trying {format_bin([unit], length)}\")\n",
        "            if fitness(unit, length, fitness_option) > 0.1:\n",
        "                selected = True\n",
        "                print(f\"Appending {format_bin([unit], length)}\")\n",
        "                pool.append(unit)\n",
        "    return pool"
      ],
      "execution_count": 0,
      "outputs": []
    },
    {
      "cell_type": "code",
      "metadata": {
        "id": "2Djpl7J78SSJ",
        "colab_type": "code",
        "colab": {}
      },
      "source": [
        "def get_percentile(probs, throw):\n",
        "    i = 0\n",
        "    while throw >= probs[i]:\n",
        "        throw -= probs[i]\n",
        "        i += 1\n",
        "    return i\n",
        "\n",
        "def rws(pool, fits, size):\n",
        "    total_fit = sum(fits)\n",
        "\n",
        "    probs = []\n",
        "    for fit in fits:\n",
        "        prob = float(fit) / total_fit\n",
        "        probs.append(prob)\n",
        "#!!!    print(\"Probabilities: \", probs)\n",
        "\n",
        "    new_pool = []\n",
        "    for i in range(0, size):\n",
        "        throw = random.random()\n",
        "        perc = get_percentile(probs, throw)\n",
        "        new_pool.append(pool[perc])\n",
        "\n",
        "    return new_pool"
      ],
      "execution_count": 0,
      "outputs": []
    },
    {
      "cell_type": "code",
      "metadata": {
        "id": "IFvsMZS5ta1Y",
        "colab_type": "code",
        "colab": {}
      },
      "source": [
        "def tournament_round(pool, fit, count):\n",
        "    participants = dict()\n",
        "\n",
        "    if len(pool) - count <= 0:\n",
        "        for i in range(0, len(pool)):\n",
        "            participants[i] = 1\n",
        "    else:\n",
        "        for i in range(0, count):\n",
        "            selected = False\n",
        "            while not selected:\n",
        "                ind = np.random.randint(len(pool))\n",
        "\n",
        "                if participants.get(ind, -1) == -1:\n",
        "                    participants[ind] = 1\n",
        "                    selected = True\n",
        "    \n",
        "    winner = -1\n",
        "    winner_fit = -1\n",
        "    for key in participants:\n",
        "        if fit[key] > winner_fit:\n",
        "            winner = pool[key]\n",
        "            winner_fit = fit[key]\n",
        "\n",
        "    return winner\n",
        "\n",
        "#tournament_round([1,2,3,4,5,6,7,8,9,10,11,12,13,14,15,16,17,18,19,20], [1,2,3,4,5,6,7,8,9,10,11,12,13,14,15,16,17,18,19,20], 12)\n",
        "#print(tournament_round([1], [1], 12))\n",
        "\n",
        "def tournament(pool, fit, size, count):\n",
        "    new_pool = []\n",
        "    for i in range(0, size):\n",
        "        new_pool.append(tournament_round(pool, fit, count))\n",
        "\n",
        "    return new_pool"
      ],
      "execution_count": 0,
      "outputs": []
    },
    {
      "cell_type": "code",
      "metadata": {
        "id": "6oVMZK06r9se",
        "colab_type": "code",
        "colab": {}
      },
      "source": [
        "def select_predecessor_pool(pool, fit, selection_option, size):\n",
        "    selection_methods = {\n",
        "        \"rws\": rws,\n",
        "        \"tournament_2\": lambda pool, fit, size: tournament(pool, fit, size, 2),\n",
        "        \"tournament_12\": lambda pool, fit, size: tournament(pool, fit, size, 12)}\n",
        "    return selection_methods.get(selection_option)(pool, fit, size)\n"
      ],
      "execution_count": 0,
      "outputs": []
    },
    {
      "cell_type": "code",
      "metadata": {
        "id": "W69uyp73kZPS",
        "colab_type": "code",
        "colab": {}
      },
      "source": [
        "def do_iteration(i, pool, size_gen, length, fitness_option, selection_option, Px, df, title):\n",
        "    # print(\"Pool:\", format_bin(pool, length))\n",
        "    fits = calc_fits(pool, length, fitness_option)\n",
        "    # print(\"Fitnesses:\", fits)\n",
        "\n",
        "    non_lethal_pool, non_lethal_fit = select_non_lethal(pool, fits)\n",
        "    if len(non_lethal_pool) == 0:\n",
        "        print(\"Population DIED from mutations\")\n",
        "        return non_lethal_pool, df\n",
        "    # print(\"Non_lethal_pool:\", format_bin(non_lethal_pool, length))\n",
        "    # print(\"Not_lethal_fitnesses:\", non_lethal_fit)\n",
        "    # print(\"Removed lethal:\", len(pool) - len(non_lethal_pool))\n",
        "\n",
        "    stats = get_population_stats(pool, fits, length, title, i)\n",
        "    df = df.append(stats, ignore_index=True)\n",
        "\n",
        "    successor_pool_size = size_gen.get_next()\n",
        "    # print(\"Successor pool size:\", successor_pool_size)\n",
        "    predecessor_pool = select_predecessor_pool(non_lethal_pool, non_lethal_fit, selection_option, successor_pool_size)\n",
        "    # print(\"Selected  pool:\", format_bin(predecessor_pool, length))\n",
        "    successor_pool = mutate(predecessor_pool, Px, length)\n",
        "    # print(\"After mutation:\", format_bin(successor_pool, length))\n",
        "    return successor_pool, df"
      ],
      "execution_count": 0,
      "outputs": []
    },
    {
      "cell_type": "code",
      "metadata": {
        "id": "UnZr2-lWqMDT",
        "colab_type": "code",
        "colab": {}
      },
      "source": [
        "Px_values = {\"rws_10_1000\": 0.00004894956, \"rws_10_5000\": 5.84103135890646E-06, \"rws_10_10000\": 2.55884808484052E-06,\n",
        "             \"rws_20_1000\": 0.00002135745, \"rws_20_5000\": 2.85216033312367E-06, \"rws_20_10000\": 1.24947882619106E-06,\n",
        "             \"rws_100_1000\": 2.69339092197189E-06, \"rws_100_5000\": 4.33128819879781E-07, \"rws_100_10000\": 1.89745745766054E-07,\n",
        "             \"rws_200_1000\": 1.34757278701916E-06, \"rws_200_5000\": 2.16705494246041E-07, \"rws_200_10000\": 9.49346793148726E-08,\n",
        "             \"rws_1000_1000\": 2.52494432359449E-07, \"rws_1000_5000\": 4.06040633099026E-08, \"rws_1000_10000\": 1.77878910851695E-08,\n",
        "             \"rws_2000_1000\": 1.17473955847569E-07, \"rws_2000_5000\": 1.88911885934537E-08, \"rws_2000_10000\": 8.27588122412854E-09,\n",
        "             \"tournament_2_100_1000\": 4.88907478530056E-06, \"tournament_2_100_5000\": 7.86220512880801E-07, \"tournament_2_100_10000\": 3.44428702746088E-07,\n",
        "             \"tournament_2_200_1000\": 2.51090710706304E-06, \"tournament_2_200_5000\": 4.0378328420063E-07, \"tournament_2_200_10000\": 1.76890007942165E-07,\n",
        "             \"tournament_2_1000_1000\": 4.81301061822077E-07, \"tournament_2_1000_5000\": 7.73988503537616E-08, \"tournament_2_1000_10000\": 3.39070085105072E-08,\n",
        "             \"tournament_2_2000_1000\": 2.40825996117682E-07, \"tournament_2_2000_5000\": 3.87276420381108E-08, \"tournament_2_2000_10000\": 1.69658655416227E-08,\n",
        "             \"tournament_12_100_1000\": 5.00242530879202E-06, \"tournament_12_100_5000\": 8.04448605235351E-07, \"tournament_12_100_10000\": 3.52414093740542E-07,\n",
        "             \"tournament_12_200_1000\": 2.51178443309626E-06, \"tournament_12_200_5000\": 4.0392436850678E-07, \"tournament_12_200_10000\": 1.76951814374011E-07,\n",
        "             \"tournament_12_1000_1000\": 4.93408161080452E-07, \"tournament_12_1000_5000\": 7.93458137786284E-08, \"tournament_12_1000_10000\": 3.47599372699768E-08,\n",
        "             \"tournament_12_2000_1000\": 2.43984369837258E-07, \"tournament_12_2000_5000\": 3.92355455402499E-08, \"tournament_12_2000_10000\": 1.7188368696267E-08\n",
        "             }\n",
        "\n",
        "population_options = {1: 1000, 2: 5000, 3: 10000,\n",
        "                      4: 10000, 5: 10000, 6: 10000,\n",
        "                      7: 10000, 8: 10000, 9: 10000}\n",
        "\n",
        "# Option: 1. 1000: Population: 1024\n",
        "# Option: 2. 5000: Population: 5299\n",
        "# Option: 3. 10000: Population: 770588176\n",
        "# Option: 4. 10000: Population: 8280\n",
        "# Option: 5. 10000: Population: 8280\n",
        "# Option: 6. 10000: Population: 8280\n",
        "# Option: 7. 10000: Population: 582804478\n",
        "# Option: 8. 10000: Population: 582804478\n",
        "# Option: 9. 10000: Population: 582804478"
      ],
      "execution_count": 0,
      "outputs": []
    },
    {
      "cell_type": "code",
      "metadata": {
        "id": "E16l8xmwROw4",
        "colab_type": "code",
        "colab": {}
      },
      "source": [
        "distribution_options = {1: \"zero\", 2: \"zero\", 3: \"zero\",\n",
        "                        4: \"zero\",5: \"normal_st\", 6: \"normal_0_3\",\n",
        "                        7: \"zero\", 8: \"normal_st\", 9: \"normal_0_3\"}\n",
        "\n",
        "# Include table with Px\n",
        "# Px = 0.0004870242\n",
        "# Px = 0.02\n",
        "\n",
        "def play_simulation(iterations, options, chain_lengths, fitness_options, selection_options, Pm_options):\n",
        "    print(\"Starting simulation:\", \"Iterations:\", iterations, \"Options:\", options, \"Chains:\", chain_lengths, \"Fitness:\", fitness_options, \"Selection:\", selection_options)\n",
        "    dfs = []\n",
        "    global_stats = pd.DataFrame()\n",
        "    for option in options:\n",
        "        print(\"Starting simulation for option:\", option)\n",
        "        for chain_length in chain_lengths:\n",
        "            print(\"Starting simulation for chain length:\", chain_length)\n",
        "            for fitness_option in fitness_options:\n",
        "                print(\"Starting simulation for fitness_option:\", fitness_option)\n",
        "                for selection_option in selection_options:\n",
        "                    print(\"Starting simulation for selection_option:\", selection_option)\n",
        "\n",
        "                    Px_key = f'{selection_option}_{chain_length}_{population_options[option]}'\n",
        "                    Px = Px_values[Px_key]\n",
        "                    print(f\"Px for option {option}, selection option {selection_option}, length {chain_length} is {Px}\")\n",
        "                    for pm_option in Pm_options:\n",
        "                        print(\"Starting simulation for pm_option:\", pm_option)\n",
        "                        Pm = Pm_lambdas[pm_option](Px)\n",
        "                        print(f'Pm is caclulated by Pm option {pm_option} and is {Pm}')\n",
        "\n",
        "                        run_name = f\"opt_{option}_len_{chain_length}_fit_{fitness_option}_select_{selection_option}_pm_{pm_option}_iterations_{iterations}\"\n",
        "\n",
        "                        df = pd.DataFrame(columns=gen_columns(chain_length))\n",
        "\n",
        "                        size_gen = PopulationSizeGenerator(option)\n",
        "                        pool = init_pool(chain_length, size_gen.get_next(), distribution_options.get(option), fitness_option)\n",
        "                        for iteration in range(0, iterations):\n",
        "                            iter_name=\"{}__{:04d}\".format(run_name, iteration + 1)\n",
        "                            print(\"O:\", option, \" L:\", chain_length, \"F:\", fitness_option, \"S:\", selection_option, \"I:\", iteration + 1, \"of\", iterations, \"Pool:\", len(pool))\n",
        "                            pool, df = do_iteration(iteration, pool, size_gen, chain_length, fitness_option, selection_option, Px, df, iter_name)\n",
        "                            if len(pool) == 0:\n",
        "                                print(f\"Simulation ended with DEAD population. O: {option}, L: {chain_length}, F: {fitness_option}, S: {selection_option}, Px: {Px}, Pm: {Pm}\")\n",
        "                                break\n",
        "                        df.to_excel(f\"data/output_{run_name}.xlsx\")\n",
        "                        run_stats_df = get_global_stats(df)\n",
        "                        run_stats_df['run_name'] = run_name\n",
        "                        global_stats = global_stats.append(run_stats_df, ignore_index=True)\n",
        "                        dfs.append(df)\n",
        "                        print(\"Done with pm_option:\", pm_option)\n",
        "\n",
        "                    print(\"Done with selection_option:\", selection_option)\n",
        "                print(\"Done with fitness_option:\", fitness_option)\n",
        "            print(\"Done with chain length:\", chain_length)\n",
        "        print(\"Done with option:\", option)\n",
        "\n",
        "    global_stats = global_stats.set_index('run_name')\n",
        "    global_stats.to_excel(f\"data/output_global_stats.xlsx\")\n",
        "\n",
        "    return global_stats\n"
      ],
      "execution_count": 0,
      "outputs": []
    },
    {
      "cell_type": "code",
      "metadata": {
        "id": "MICPF5GO3GQR",
        "colab_type": "code",
        "outputId": "0118b5cd-1a8d-4aea-bf19-73aa0068a896",
        "colab": {
          "base_uri": "https://localhost:8080/",
          "height": 34
        }
      },
      "source": [
        "iterations = 20000\n",
        "\n",
        "options = range(1, 10) #TODO: option 10 has special cases and is not included here. Implement option 10\n",
        "chain_lengths = [10, 20, 100, 200, 1000, 2000]\n",
        "fitness_options = [1, 2]\n",
        "selection_options = [\"rws\", \"tournament_2\", \"tournament_12\"]\n",
        "Pm_options = [0, 1, 2, 3]\n",
        "Pm_lambdas = [lambda x: x, lambda x: x - 0.2 * x, lambda x: x - 0.5 * x, lambda x: 5 * x]\n",
        "\n",
        "all_cases = []\n",
        "\n",
        "def create_all_cases():\n",
        "    for option in options:\n",
        "        for chain_length in chain_lengths:\n",
        "            for fitness_option in fitness_options:\n",
        "                #Skip fitness option 2 for chains < 100\n",
        "                if chain_length < 100 and fitness_option == 2:\n",
        "                    continue\n",
        "                for selection_option in selection_options:\n",
        "                    #Use tournament selections only for fitness option 2\n",
        "                    if fitness_option == 1 and selection_option != \"rws\":\n",
        "                        continue\n",
        "                    for Pm_option in Pm_options:\n",
        "                        all_cases.append((option, chain_length, fitness_option, selection_option, Pm_option))\n",
        "\n",
        "create_all_cases()\n",
        "print(\"Total:\", len(all_cases))\n",
        "index = 0\n",
        "for tpl in all_cases:\n",
        "    index += 1\n",
        "#    print(index, tpl)\n"
      ],
      "execution_count": 0,
      "outputs": [
        {
          "output_type": "stream",
          "text": [
            "Total: 648\n"
          ],
          "name": "stdout"
        }
      ]
    },
    {
      "cell_type": "code",
      "metadata": {
        "id": "r2rXtLT5lZ_I",
        "colab_type": "code",
        "outputId": "1afd03ba-8e32-4c4e-ff1a-0e4abe7099aa",
        "colab": {
          "base_uri": "https://localhost:8080/",
          "height": 1000
        }
      },
      "source": [
        "\n",
        "# Full simulation:\n",
        "# play_simulation(options, chain_lengths, iterations)\n",
        "# Use all_cases\n",
        "#play_simulation(iterations, options, chain_lengths, fitness_options, selection_options, Pm_options)\n",
        "play_simulation(100, [1], [100], [1], [\"rws\"], [0])\n"
      ],
      "execution_count": 0,
      "outputs": [
        {
          "output_type": "stream",
          "text": [
            "Starting simulation: Iterations: 100 Options: [1] Chains: [100] Fitness: [1] Selection: ['rws']\n",
            "Starting simulation for option: 1\n",
            "Starting simulation for chain length: 100\n",
            "Starting simulation for fitness_option: 1\n",
            "Starting simulation for selection_option: rws\n",
            "Px for option 1, selection option rws, length 100 is 2.69339092197189e-06\n",
            "Starting simulation for pm_option: 0\n",
            "Pm is caclulated by Pm option 0 and is 2.69339092197189e-06\n",
            "Initialing pool\n",
            "Generationg 1 of 1\n",
            "Length: 100, Distribution option: zero\n",
            "Trying ['0000000000000000000000000000000000000000000000000000000000000000000000000000000000000000000000000000']\n",
            "Appending ['0000000000000000000000000000000000000000000000000000000000000000000000000000000000000000000000000000']\n",
            "O: 1  L: 100 F: 1 S: rws I: 1 of 100 Pool: 1\n"
          ],
          "name": "stdout"
        },
        {
          "output_type": "display_data",
          "data": {
            "text/plain": [
              "{}"
            ]
          },
          "metadata": {
            "tags": []
          }
        },
        {
          "output_type": "stream",
          "text": [
            "O: 1  L: 100 F: 1 S: rws I: 2 of 100 Pool: 2\n"
          ],
          "name": "stdout"
        },
        {
          "output_type": "display_data",
          "data": {
            "text/plain": [
              "{0: 1}"
            ]
          },
          "metadata": {
            "tags": []
          }
        },
        {
          "output_type": "stream",
          "text": [
            "O: 1  L: 100 F: 1 S: rws I: 3 of 100 Pool: 4\n"
          ],
          "name": "stdout"
        },
        {
          "output_type": "display_data",
          "data": {
            "text/plain": [
              "{0: 6}"
            ]
          },
          "metadata": {
            "tags": []
          }
        },
        {
          "output_type": "stream",
          "text": [
            "O: 1  L: 100 F: 1 S: rws I: 4 of 100 Pool: 8\n"
          ],
          "name": "stdout"
        },
        {
          "output_type": "display_data",
          "data": {
            "text/plain": [
              "{0: 28}"
            ]
          },
          "metadata": {
            "tags": []
          }
        },
        {
          "output_type": "stream",
          "text": [
            "O: 1  L: 100 F: 1 S: rws I: 5 of 100 Pool: 16\n"
          ],
          "name": "stdout"
        },
        {
          "output_type": "display_data",
          "data": {
            "text/plain": [
              "{0: 120}"
            ]
          },
          "metadata": {
            "tags": []
          }
        },
        {
          "output_type": "stream",
          "text": [
            "O: 1  L: 100 F: 1 S: rws I: 6 of 100 Pool: 32\n"
          ],
          "name": "stdout"
        },
        {
          "output_type": "display_data",
          "data": {
            "text/plain": [
              "{0: 496}"
            ]
          },
          "metadata": {
            "tags": []
          }
        },
        {
          "output_type": "stream",
          "text": [
            "O: 1  L: 100 F: 1 S: rws I: 7 of 100 Pool: 64\n"
          ],
          "name": "stdout"
        },
        {
          "output_type": "display_data",
          "data": {
            "text/plain": [
              "{0: 2016}"
            ]
          },
          "metadata": {
            "tags": []
          }
        },
        {
          "output_type": "stream",
          "text": [
            "O: 1  L: 100 F: 1 S: rws I: 8 of 100 Pool: 128\n"
          ],
          "name": "stdout"
        },
        {
          "output_type": "display_data",
          "data": {
            "text/plain": [
              "{0: 8128}"
            ]
          },
          "metadata": {
            "tags": []
          }
        },
        {
          "output_type": "stream",
          "text": [
            "O: 1  L: 100 F: 1 S: rws I: 9 of 100 Pool: 256\n"
          ],
          "name": "stdout"
        },
        {
          "output_type": "display_data",
          "data": {
            "text/plain": [
              "{0: 32640}"
            ]
          },
          "metadata": {
            "tags": []
          }
        },
        {
          "output_type": "stream",
          "text": [
            "O: 1  L: 100 F: 1 S: rws I: 10 of 100 Pool: 512\n"
          ],
          "name": "stdout"
        },
        {
          "output_type": "display_data",
          "data": {
            "text/plain": [
              "{0: 130816}"
            ]
          },
          "metadata": {
            "tags": []
          }
        },
        {
          "output_type": "stream",
          "text": [
            "O: 1  L: 100 F: 1 S: rws I: 11 of 100 Pool: 1024\n"
          ],
          "name": "stdout"
        },
        {
          "output_type": "display_data",
          "data": {
            "text/plain": [
              "{0: 523776}"
            ]
          },
          "metadata": {
            "tags": []
          }
        },
        {
          "output_type": "stream",
          "text": [
            "O: 1  L: 100 F: 1 S: rws I: 12 of 100 Pool: 1024\n"
          ],
          "name": "stdout"
        },
        {
          "output_type": "display_data",
          "data": {
            "text/plain": [
              "{0: 523776}"
            ]
          },
          "metadata": {
            "tags": []
          }
        },
        {
          "output_type": "stream",
          "text": [
            "O: 1  L: 100 F: 1 S: rws I: 13 of 100 Pool: 1024\n"
          ],
          "name": "stdout"
        },
        {
          "output_type": "display_data",
          "data": {
            "text/plain": [
              "{0: 523776}"
            ]
          },
          "metadata": {
            "tags": []
          }
        },
        {
          "output_type": "stream",
          "text": [
            "O: 1  L: 100 F: 1 S: rws I: 14 of 100 Pool: 1024\n"
          ],
          "name": "stdout"
        },
        {
          "output_type": "display_data",
          "data": {
            "text/plain": [
              "{0: 522753, 1: 1023}"
            ]
          },
          "metadata": {
            "tags": []
          }
        },
        {
          "output_type": "stream",
          "text": [
            "O: 1  L: 100 F: 1 S: rws I: 15 of 100 Pool: 1024\n"
          ],
          "name": "stdout"
        },
        {
          "output_type": "display_data",
          "data": {
            "text/plain": [
              "{0: 522753, 1: 1023}"
            ]
          },
          "metadata": {
            "tags": []
          }
        },
        {
          "output_type": "stream",
          "text": [
            "O: 1  L: 100 F: 1 S: rws I: 16 of 100 Pool: 1024\n"
          ],
          "name": "stdout"
        },
        {
          "output_type": "display_data",
          "data": {
            "text/plain": [
              "{0: 522753, 1: 1023}"
            ]
          },
          "metadata": {
            "tags": []
          }
        },
        {
          "output_type": "stream",
          "text": [
            "O: 1  L: 100 F: 1 S: rws I: 17 of 100 Pool: 1024\n"
          ],
          "name": "stdout"
        },
        {
          "output_type": "display_data",
          "data": {
            "text/plain": [
              "{0: 523776}"
            ]
          },
          "metadata": {
            "tags": []
          }
        },
        {
          "output_type": "stream",
          "text": [
            "O: 1  L: 100 F: 1 S: rws I: 18 of 100 Pool: 1024\n"
          ],
          "name": "stdout"
        },
        {
          "output_type": "display_data",
          "data": {
            "text/plain": [
              "{0: 522753, 1: 1023}"
            ]
          },
          "metadata": {
            "tags": []
          }
        },
        {
          "output_type": "stream",
          "text": [
            "O: 1  L: 100 F: 1 S: rws I: 19 of 100 Pool: 1024\n"
          ],
          "name": "stdout"
        },
        {
          "output_type": "display_data",
          "data": {
            "text/plain": [
              "{0: 522753, 1: 1023}"
            ]
          },
          "metadata": {
            "tags": []
          }
        },
        {
          "output_type": "stream",
          "text": [
            "O: 1  L: 100 F: 1 S: rws I: 20 of 100 Pool: 1024\n"
          ],
          "name": "stdout"
        },
        {
          "output_type": "display_data",
          "data": {
            "text/plain": [
              "{0: 521732, 1: 2044}"
            ]
          },
          "metadata": {
            "tags": []
          }
        },
        {
          "output_type": "stream",
          "text": [
            "O: 1  L: 100 F: 1 S: rws I: 21 of 100 Pool: 1024\n"
          ],
          "name": "stdout"
        },
        {
          "output_type": "display_data",
          "data": {
            "text/plain": [
              "{0: 521731, 1: 2044, 2: 1}"
            ]
          },
          "metadata": {
            "tags": []
          }
        },
        {
          "output_type": "stream",
          "text": [
            "O: 1  L: 100 F: 1 S: rws I: 22 of 100 Pool: 1024\n"
          ],
          "name": "stdout"
        },
        {
          "output_type": "display_data",
          "data": {
            "text/plain": [
              "{0: 520711, 1: 3063, 2: 2}"
            ]
          },
          "metadata": {
            "tags": []
          }
        },
        {
          "output_type": "stream",
          "text": [
            "O: 1  L: 100 F: 1 S: rws I: 23 of 100 Pool: 1024\n"
          ],
          "name": "stdout"
        },
        {
          "output_type": "display_data",
          "data": {
            "text/plain": [
              "{0: 518677, 1: 5095, 2: 4}"
            ]
          },
          "metadata": {
            "tags": []
          }
        },
        {
          "output_type": "stream",
          "text": [
            "O: 1  L: 100 F: 1 S: rws I: 24 of 100 Pool: 1024\n"
          ],
          "name": "stdout"
        },
        {
          "output_type": "display_data",
          "data": {
            "text/plain": [
              "{0: 514633, 1: 9135, 2: 8}"
            ]
          },
          "metadata": {
            "tags": []
          }
        },
        {
          "output_type": "stream",
          "text": [
            "O: 1  L: 100 F: 1 S: rws I: 25 of 100 Pool: 1024\n"
          ],
          "name": "stdout"
        },
        {
          "output_type": "display_data",
          "data": {
            "text/plain": [
              "{0: 517663, 1: 6108, 2: 5}"
            ]
          },
          "metadata": {
            "tags": []
          }
        },
        {
          "output_type": "stream",
          "text": [
            "O: 1  L: 100 F: 1 S: rws I: 26 of 100 Pool: 1024\n"
          ],
          "name": "stdout"
        },
        {
          "output_type": "display_data",
          "data": {
            "text/plain": [
              "{0: 518674, 1: 5095, 2: 7}"
            ]
          },
          "metadata": {
            "tags": []
          }
        },
        {
          "output_type": "stream",
          "text": [
            "O: 1  L: 100 F: 1 S: rws I: 27 of 100 Pool: 1024\n"
          ],
          "name": "stdout"
        },
        {
          "output_type": "display_data",
          "data": {
            "text/plain": [
              "{0: 520710, 1: 3063, 2: 3}"
            ]
          },
          "metadata": {
            "tags": []
          }
        },
        {
          "output_type": "stream",
          "text": [
            "O: 1  L: 100 F: 1 S: rws I: 28 of 100 Pool: 1024\n"
          ],
          "name": "stdout"
        },
        {
          "output_type": "display_data",
          "data": {
            "text/plain": [
              "{0: 519692, 1: 4080, 2: 4}"
            ]
          },
          "metadata": {
            "tags": []
          }
        },
        {
          "output_type": "stream",
          "text": [
            "O: 1  L: 100 F: 1 S: rws I: 29 of 100 Pool: 1024\n"
          ],
          "name": "stdout"
        },
        {
          "output_type": "display_data",
          "data": {
            "text/plain": [
              "{0: 520711, 1: 3063, 2: 2}"
            ]
          },
          "metadata": {
            "tags": []
          }
        },
        {
          "output_type": "stream",
          "text": [
            "O: 1  L: 100 F: 1 S: rws I: 30 of 100 Pool: 1024\n"
          ],
          "name": "stdout"
        },
        {
          "output_type": "display_data",
          "data": {
            "text/plain": [
              "{0: 517657, 1: 6108, 2: 11}"
            ]
          },
          "metadata": {
            "tags": []
          }
        },
        {
          "output_type": "stream",
          "text": [
            "O: 1  L: 100 F: 1 S: rws I: 31 of 100 Pool: 1024\n"
          ],
          "name": "stdout"
        },
        {
          "output_type": "display_data",
          "data": {
            "text/plain": [
              "{0: 517663, 1: 6108, 2: 5}"
            ]
          },
          "metadata": {
            "tags": []
          }
        },
        {
          "output_type": "stream",
          "text": [
            "O: 1  L: 100 F: 1 S: rws I: 32 of 100 Pool: 1024\n"
          ],
          "name": "stdout"
        },
        {
          "output_type": "display_data",
          "data": {
            "text/plain": [
              "{0: 517659, 1: 6108, 2: 9}"
            ]
          },
          "metadata": {
            "tags": []
          }
        },
        {
          "output_type": "stream",
          "text": [
            "O: 1  L: 100 F: 1 S: rws I: 33 of 100 Pool: 1024\n"
          ],
          "name": "stdout"
        },
        {
          "output_type": "display_data",
          "data": {
            "text/plain": [
              "{0: 519693, 1: 4080, 2: 3}"
            ]
          },
          "metadata": {
            "tags": []
          }
        },
        {
          "output_type": "stream",
          "text": [
            "O: 1  L: 100 F: 1 S: rws I: 34 of 100 Pool: 1024\n"
          ],
          "name": "stdout"
        },
        {
          "output_type": "display_data",
          "data": {
            "text/plain": [
              "{0: 522753, 1: 1023}"
            ]
          },
          "metadata": {
            "tags": []
          }
        },
        {
          "output_type": "stream",
          "text": [
            "O: 1  L: 100 F: 1 S: rws I: 35 of 100 Pool: 1024\n"
          ],
          "name": "stdout"
        },
        {
          "output_type": "display_data",
          "data": {
            "text/plain": [
              "{0: 523776}"
            ]
          },
          "metadata": {
            "tags": []
          }
        },
        {
          "output_type": "stream",
          "text": [
            "O: 1  L: 100 F: 1 S: rws I: 36 of 100 Pool: 1024\n"
          ],
          "name": "stdout"
        },
        {
          "output_type": "display_data",
          "data": {
            "text/plain": [
              "{0: 520710, 1: 3063, 2: 3}"
            ]
          },
          "metadata": {
            "tags": []
          }
        },
        {
          "output_type": "stream",
          "text": [
            "O: 1  L: 100 F: 1 S: rws I: 37 of 100 Pool: 1024\n"
          ],
          "name": "stdout"
        },
        {
          "output_type": "display_data",
          "data": {
            "text/plain": [
              "{0: 518674, 1: 5095, 2: 7}"
            ]
          },
          "metadata": {
            "tags": []
          }
        },
        {
          "output_type": "stream",
          "text": [
            "O: 1  L: 100 F: 1 S: rws I: 38 of 100 Pool: 1024\n"
          ],
          "name": "stdout"
        },
        {
          "output_type": "display_data",
          "data": {
            "text/plain": [
              "{0: 518672, 1: 5095, 2: 9}"
            ]
          },
          "metadata": {
            "tags": []
          }
        },
        {
          "output_type": "stream",
          "text": [
            "O: 1  L: 100 F: 1 S: rws I: 39 of 100 Pool: 1024\n"
          ],
          "name": "stdout"
        },
        {
          "output_type": "display_data",
          "data": {
            "text/plain": [
              "{0: 520710, 1: 3063, 2: 3}"
            ]
          },
          "metadata": {
            "tags": []
          }
        },
        {
          "output_type": "stream",
          "text": [
            "O: 1  L: 100 F: 1 S: rws I: 40 of 100 Pool: 1024\n"
          ],
          "name": "stdout"
        },
        {
          "output_type": "display_data",
          "data": {
            "text/plain": [
              "{0: 522753, 1: 1023}"
            ]
          },
          "metadata": {
            "tags": []
          }
        },
        {
          "output_type": "stream",
          "text": [
            "O: 1  L: 100 F: 1 S: rws I: 41 of 100 Pool: 1024\n"
          ],
          "name": "stdout"
        },
        {
          "output_type": "display_data",
          "data": {
            "text/plain": [
              "{0: 521732, 1: 2044}"
            ]
          },
          "metadata": {
            "tags": []
          }
        },
        {
          "output_type": "stream",
          "text": [
            "O: 1  L: 100 F: 1 S: rws I: 42 of 100 Pool: 1024\n"
          ],
          "name": "stdout"
        },
        {
          "output_type": "display_data",
          "data": {
            "text/plain": [
              "{0: 522753, 1: 1023}"
            ]
          },
          "metadata": {
            "tags": []
          }
        },
        {
          "output_type": "stream",
          "text": [
            "O: 1  L: 100 F: 1 S: rws I: 43 of 100 Pool: 1024\n"
          ],
          "name": "stdout"
        },
        {
          "output_type": "display_data",
          "data": {
            "text/plain": [
              "{0: 523776}"
            ]
          },
          "metadata": {
            "tags": []
          }
        },
        {
          "output_type": "stream",
          "text": [
            "O: 1  L: 100 F: 1 S: rws I: 44 of 100 Pool: 1024\n"
          ],
          "name": "stdout"
        },
        {
          "output_type": "display_data",
          "data": {
            "text/plain": [
              "{0: 523776}"
            ]
          },
          "metadata": {
            "tags": []
          }
        },
        {
          "output_type": "stream",
          "text": [
            "O: 1  L: 100 F: 1 S: rws I: 45 of 100 Pool: 1024\n"
          ],
          "name": "stdout"
        },
        {
          "output_type": "display_data",
          "data": {
            "text/plain": [
              "{0: 523776}"
            ]
          },
          "metadata": {
            "tags": []
          }
        },
        {
          "output_type": "stream",
          "text": [
            "O: 1  L: 100 F: 1 S: rws I: 46 of 100 Pool: 1024\n"
          ],
          "name": "stdout"
        },
        {
          "output_type": "display_data",
          "data": {
            "text/plain": [
              "{0: 523776}"
            ]
          },
          "metadata": {
            "tags": []
          }
        },
        {
          "output_type": "stream",
          "text": [
            "O: 1  L: 100 F: 1 S: rws I: 47 of 100 Pool: 1024\n"
          ],
          "name": "stdout"
        },
        {
          "output_type": "display_data",
          "data": {
            "text/plain": [
              "{0: 523776}"
            ]
          },
          "metadata": {
            "tags": []
          }
        },
        {
          "output_type": "stream",
          "text": [
            "O: 1  L: 100 F: 1 S: rws I: 48 of 100 Pool: 1024\n"
          ],
          "name": "stdout"
        },
        {
          "output_type": "display_data",
          "data": {
            "text/plain": [
              "{0: 523776}"
            ]
          },
          "metadata": {
            "tags": []
          }
        },
        {
          "output_type": "stream",
          "text": [
            "O: 1  L: 100 F: 1 S: rws I: 49 of 100 Pool: 1024\n"
          ],
          "name": "stdout"
        },
        {
          "output_type": "display_data",
          "data": {
            "text/plain": [
              "{0: 523776}"
            ]
          },
          "metadata": {
            "tags": []
          }
        },
        {
          "output_type": "stream",
          "text": [
            "O: 1  L: 100 F: 1 S: rws I: 50 of 100 Pool: 1024\n"
          ],
          "name": "stdout"
        },
        {
          "output_type": "display_data",
          "data": {
            "text/plain": [
              "{0: 523776}"
            ]
          },
          "metadata": {
            "tags": []
          }
        },
        {
          "output_type": "stream",
          "text": [
            "O: 1  L: 100 F: 1 S: rws I: 51 of 100 Pool: 1024\n"
          ],
          "name": "stdout"
        },
        {
          "output_type": "display_data",
          "data": {
            "text/plain": [
              "{0: 523776}"
            ]
          },
          "metadata": {
            "tags": []
          }
        },
        {
          "output_type": "stream",
          "text": [
            "O: 1  L: 100 F: 1 S: rws I: 52 of 100 Pool: 1024\n"
          ],
          "name": "stdout"
        },
        {
          "output_type": "display_data",
          "data": {
            "text/plain": [
              "{0: 522753, 1: 1023}"
            ]
          },
          "metadata": {
            "tags": []
          }
        },
        {
          "output_type": "stream",
          "text": [
            "O: 1  L: 100 F: 1 S: rws I: 53 of 100 Pool: 1024\n"
          ],
          "name": "stdout"
        },
        {
          "output_type": "display_data",
          "data": {
            "text/plain": [
              "{0: 523776}"
            ]
          },
          "metadata": {
            "tags": []
          }
        },
        {
          "output_type": "stream",
          "text": [
            "O: 1  L: 100 F: 1 S: rws I: 54 of 100 Pool: 1024\n"
          ],
          "name": "stdout"
        },
        {
          "output_type": "display_data",
          "data": {
            "text/plain": [
              "{0: 523776}"
            ]
          },
          "metadata": {
            "tags": []
          }
        },
        {
          "output_type": "stream",
          "text": [
            "O: 1  L: 100 F: 1 S: rws I: 55 of 100 Pool: 1024\n"
          ],
          "name": "stdout"
        },
        {
          "output_type": "display_data",
          "data": {
            "text/plain": [
              "{0: 522753, 1: 1023}"
            ]
          },
          "metadata": {
            "tags": []
          }
        },
        {
          "output_type": "stream",
          "text": [
            "O: 1  L: 100 F: 1 S: rws I: 56 of 100 Pool: 1024\n"
          ],
          "name": "stdout"
        },
        {
          "output_type": "display_data",
          "data": {
            "text/plain": [
              "{0: 522753, 1: 1023}"
            ]
          },
          "metadata": {
            "tags": []
          }
        },
        {
          "output_type": "stream",
          "text": [
            "O: 1  L: 100 F: 1 S: rws I: 57 of 100 Pool: 1024\n"
          ],
          "name": "stdout"
        },
        {
          "output_type": "display_data",
          "data": {
            "text/plain": [
              "{0: 522753, 1: 1023}"
            ]
          },
          "metadata": {
            "tags": []
          }
        },
        {
          "output_type": "stream",
          "text": [
            "O: 1  L: 100 F: 1 S: rws I: 58 of 100 Pool: 1024\n"
          ],
          "name": "stdout"
        },
        {
          "output_type": "display_data",
          "data": {
            "text/plain": [
              "{0: 522753, 1: 1023}"
            ]
          },
          "metadata": {
            "tags": []
          }
        },
        {
          "output_type": "stream",
          "text": [
            "O: 1  L: 100 F: 1 S: rws I: 59 of 100 Pool: 1024\n"
          ],
          "name": "stdout"
        },
        {
          "output_type": "display_data",
          "data": {
            "text/plain": [
              "{0: 519696, 1: 4080}"
            ]
          },
          "metadata": {
            "tags": []
          }
        },
        {
          "output_type": "stream",
          "text": [
            "O: 1  L: 100 F: 1 S: rws I: 60 of 100 Pool: 1024\n"
          ],
          "name": "stdout"
        },
        {
          "output_type": "display_data",
          "data": {
            "text/plain": [
              "{0: 517668, 1: 6108}"
            ]
          },
          "metadata": {
            "tags": []
          }
        },
        {
          "output_type": "stream",
          "text": [
            "O: 1  L: 100 F: 1 S: rws I: 61 of 100 Pool: 1024\n"
          ],
          "name": "stdout"
        },
        {
          "output_type": "display_data",
          "data": {
            "text/plain": [
              "{0: 521732, 1: 2044}"
            ]
          },
          "metadata": {
            "tags": []
          }
        },
        {
          "output_type": "stream",
          "text": [
            "O: 1  L: 100 F: 1 S: rws I: 62 of 100 Pool: 1024\n"
          ],
          "name": "stdout"
        },
        {
          "output_type": "display_data",
          "data": {
            "text/plain": [
              "{0: 520713, 1: 3063}"
            ]
          },
          "metadata": {
            "tags": []
          }
        },
        {
          "output_type": "stream",
          "text": [
            "O: 1  L: 100 F: 1 S: rws I: 63 of 100 Pool: 1024\n"
          ],
          "name": "stdout"
        },
        {
          "output_type": "display_data",
          "data": {
            "text/plain": [
              "{0: 518681, 1: 5095}"
            ]
          },
          "metadata": {
            "tags": []
          }
        },
        {
          "output_type": "stream",
          "text": [
            "O: 1  L: 100 F: 1 S: rws I: 64 of 100 Pool: 1024\n"
          ],
          "name": "stdout"
        },
        {
          "output_type": "display_data",
          "data": {
            "text/plain": [
              "{0: 512633, 1: 11143}"
            ]
          },
          "metadata": {
            "tags": []
          }
        },
        {
          "output_type": "stream",
          "text": [
            "O: 1  L: 100 F: 1 S: rws I: 65 of 100 Pool: 1024\n"
          ],
          "name": "stdout"
        },
        {
          "output_type": "display_data",
          "data": {
            "text/plain": [
              "{0: 511621, 1: 12144, 2: 11}"
            ]
          },
          "metadata": {
            "tags": []
          }
        },
        {
          "output_type": "stream",
          "text": [
            "O: 1  L: 100 F: 1 S: rws I: 66 of 100 Pool: 1024\n"
          ],
          "name": "stdout"
        },
        {
          "output_type": "display_data",
          "data": {
            "text/plain": [
              "{0: 514633, 1: 9135, 2: 8}"
            ]
          },
          "metadata": {
            "tags": []
          }
        },
        {
          "output_type": "stream",
          "text": [
            "O: 1  L: 100 F: 1 S: rws I: 67 of 100 Pool: 1024\n"
          ],
          "name": "stdout"
        },
        {
          "output_type": "display_data",
          "data": {
            "text/plain": [
              "{0: 510597, 1: 13143, 2: 36}"
            ]
          },
          "metadata": {
            "tags": []
          }
        },
        {
          "output_type": "stream",
          "text": [
            "O: 1  L: 100 F: 1 S: rws I: 68 of 100 Pool: 1024\n"
          ],
          "name": "stdout"
        },
        {
          "output_type": "display_data",
          "data": {
            "text/plain": [
              "{0: 518677, 1: 5095, 2: 4}"
            ]
          },
          "metadata": {
            "tags": []
          }
        },
        {
          "output_type": "stream",
          "text": [
            "O: 1  L: 100 F: 1 S: rws I: 69 of 100 Pool: 1024\n"
          ],
          "name": "stdout"
        },
        {
          "output_type": "display_data",
          "data": {
            "text/plain": [
              "{0: 512609, 1: 11143, 2: 24}"
            ]
          },
          "metadata": {
            "tags": []
          }
        },
        {
          "output_type": "stream",
          "text": [
            "O: 1  L: 100 F: 1 S: rws I: 70 of 100 Pool: 1024\n"
          ],
          "name": "stdout"
        },
        {
          "output_type": "display_data",
          "data": {
            "text/plain": [
              "{0: 507620, 1: 16128, 2: 28}"
            ]
          },
          "metadata": {
            "tags": []
          }
        },
        {
          "output_type": "stream",
          "text": [
            "O: 1  L: 100 F: 1 S: rws I: 71 of 100 Pool: 1024\n"
          ],
          "name": "stdout"
        },
        {
          "output_type": "display_data",
          "data": {
            "text/plain": [
              "{0: 500646, 1: 23023, 2: 107}"
            ]
          },
          "metadata": {
            "tags": []
          }
        },
        {
          "output_type": "stream",
          "text": [
            "O: 1  L: 100 F: 1 S: rws I: 72 of 100 Pool: 1024\n"
          ],
          "name": "stdout"
        },
        {
          "output_type": "display_data",
          "data": {
            "text/plain": [
              "{0: 505591, 1: 18108, 2: 77}"
            ]
          },
          "metadata": {
            "tags": []
          }
        },
        {
          "output_type": "stream",
          "text": [
            "O: 1  L: 100 F: 1 S: rws I: 73 of 100 Pool: 1024\n"
          ],
          "name": "stdout"
        },
        {
          "output_type": "display_data",
          "data": {
            "text/plain": [
              "{0: 510589, 1: 13143, 2: 44}"
            ]
          },
          "metadata": {
            "tags": []
          }
        },
        {
          "output_type": "stream",
          "text": [
            "O: 1  L: 100 F: 1 S: rws I: 74 of 100 Pool: 1024\n"
          ],
          "name": "stdout"
        },
        {
          "output_type": "display_data",
          "data": {
            "text/plain": [
              "{0: 508605, 1: 15135, 2: 36}"
            ]
          },
          "metadata": {
            "tags": []
          }
        },
        {
          "output_type": "stream",
          "text": [
            "O: 1  L: 100 F: 1 S: rws I: 75 of 100 Pool: 1024\n"
          ],
          "name": "stdout"
        },
        {
          "output_type": "display_data",
          "data": {
            "text/plain": [
              "{0: 512615, 1: 11143, 2: 18}"
            ]
          },
          "metadata": {
            "tags": []
          }
        },
        {
          "output_type": "stream",
          "text": [
            "O: 1  L: 100 F: 1 S: rws I: 76 of 100 Pool: 1024\n"
          ],
          "name": "stdout"
        },
        {
          "output_type": "display_data",
          "data": {
            "text/plain": [
              "{0: 507600, 1: 16128, 2: 48}"
            ]
          },
          "metadata": {
            "tags": []
          }
        },
        {
          "output_type": "stream",
          "text": [
            "O: 1  L: 100 F: 1 S: rws I: 77 of 100 Pool: 1024\n"
          ],
          "name": "stdout"
        },
        {
          "output_type": "display_data",
          "data": {
            "text/plain": [
              "{0: 511612, 1: 12144, 2: 20}"
            ]
          },
          "metadata": {
            "tags": []
          }
        },
        {
          "output_type": "stream",
          "text": [
            "O: 1  L: 100 F: 1 S: rws I: 78 of 100 Pool: 1024\n"
          ],
          "name": "stdout"
        },
        {
          "output_type": "display_data",
          "data": {
            "text/plain": [
              "{0: 512623, 1: 11143, 2: 10}"
            ]
          },
          "metadata": {
            "tags": []
          }
        },
        {
          "output_type": "stream",
          "text": [
            "O: 1  L: 100 F: 1 S: rws I: 79 of 100 Pool: 1024\n"
          ],
          "name": "stdout"
        },
        {
          "output_type": "display_data",
          "data": {
            "text/plain": [
              "{0: 510621, 1: 13143, 2: 12}"
            ]
          },
          "metadata": {
            "tags": []
          }
        },
        {
          "output_type": "stream",
          "text": [
            "O: 1  L: 100 F: 1 S: rws I: 80 of 100 Pool: 1024\n"
          ],
          "name": "stdout"
        },
        {
          "output_type": "display_data",
          "data": {
            "text/plain": [
              "{0: 510633, 1: 13143}"
            ]
          },
          "metadata": {
            "tags": []
          }
        },
        {
          "output_type": "stream",
          "text": [
            "O: 1  L: 100 F: 1 S: rws I: 81 of 100 Pool: 1024\n"
          ],
          "name": "stdout"
        },
        {
          "output_type": "display_data",
          "data": {
            "text/plain": [
              "{0: 509636, 1: 14140}"
            ]
          },
          "metadata": {
            "tags": []
          }
        },
        {
          "output_type": "stream",
          "text": [
            "O: 1  L: 100 F: 1 S: rws I: 82 of 100 Pool: 1024\n"
          ],
          "name": "stdout"
        },
        {
          "output_type": "display_data",
          "data": {
            "text/plain": [
              "{0: 513636, 1: 10140}"
            ]
          },
          "metadata": {
            "tags": []
          }
        },
        {
          "output_type": "stream",
          "text": [
            "O: 1  L: 100 F: 1 S: rws I: 83 of 100 Pool: 1024\n"
          ],
          "name": "stdout"
        },
        {
          "output_type": "display_data",
          "data": {
            "text/plain": [
              "{0: 516651, 1: 7119, 2: 6}"
            ]
          },
          "metadata": {
            "tags": []
          }
        },
        {
          "output_type": "stream",
          "text": [
            "O: 1  L: 100 F: 1 S: rws I: 84 of 100 Pool: 1024\n"
          ],
          "name": "stdout"
        },
        {
          "output_type": "display_data",
          "data": {
            "text/plain": [
              "{0: 520711, 1: 3063, 2: 2}"
            ]
          },
          "metadata": {
            "tags": []
          }
        },
        {
          "output_type": "stream",
          "text": [
            "O: 1  L: 100 F: 1 S: rws I: 85 of 100 Pool: 1024\n"
          ],
          "name": "stdout"
        },
        {
          "output_type": "display_data",
          "data": {
            "text/plain": [
              "{0: 519693, 1: 4080, 2: 3}"
            ]
          },
          "metadata": {
            "tags": []
          }
        },
        {
          "output_type": "stream",
          "text": [
            "O: 1  L: 100 F: 1 S: rws I: 86 of 100 Pool: 1024\n"
          ],
          "name": "stdout"
        },
        {
          "output_type": "display_data",
          "data": {
            "text/plain": [
              "{0: 518677, 1: 5095, 2: 4}"
            ]
          },
          "metadata": {
            "tags": []
          }
        },
        {
          "output_type": "stream",
          "text": [
            "O: 1  L: 100 F: 1 S: rws I: 87 of 100 Pool: 1024\n"
          ],
          "name": "stdout"
        },
        {
          "output_type": "display_data",
          "data": {
            "text/plain": [
              "{0: 517660, 1: 6108, 2: 8}"
            ]
          },
          "metadata": {
            "tags": []
          }
        },
        {
          "output_type": "stream",
          "text": [
            "O: 1  L: 100 F: 1 S: rws I: 88 of 100 Pool: 1024\n"
          ],
          "name": "stdout"
        },
        {
          "output_type": "display_data",
          "data": {
            "text/plain": [
              "{0: 514627, 1: 9135, 2: 14}"
            ]
          },
          "metadata": {
            "tags": []
          }
        },
        {
          "output_type": "stream",
          "text": [
            "O: 1  L: 100 F: 1 S: rws I: 89 of 100 Pool: 1024\n"
          ],
          "name": "stdout"
        },
        {
          "output_type": "display_data",
          "data": {
            "text/plain": [
              "{0: 515641, 1: 8128, 2: 7}"
            ]
          },
          "metadata": {
            "tags": []
          }
        },
        {
          "output_type": "stream",
          "text": [
            "O: 1  L: 100 F: 1 S: rws I: 90 of 100 Pool: 1024\n"
          ],
          "name": "stdout"
        },
        {
          "output_type": "display_data",
          "data": {
            "text/plain": [
              "{0: 515635, 1: 7113, 2: 1022, 3: 6}"
            ]
          },
          "metadata": {
            "tags": []
          }
        },
        {
          "output_type": "stream",
          "text": [
            "O: 1  L: 100 F: 1 S: rws I: 91 of 100 Pool: 1024\n"
          ],
          "name": "stdout"
        },
        {
          "output_type": "display_data",
          "data": {
            "text/plain": [
              "{0: 517663, 1: 5090, 2: 1018, 3: 5}"
            ]
          },
          "metadata": {
            "tags": []
          }
        },
        {
          "output_type": "stream",
          "text": [
            "O: 1  L: 100 F: 1 S: rws I: 92 of 100 Pool: 1024\n"
          ],
          "name": "stdout"
        },
        {
          "output_type": "display_data",
          "data": {
            "text/plain": [
              "{0: 519693, 1: 3060, 2: 1020, 3: 3}"
            ]
          },
          "metadata": {
            "tags": []
          }
        },
        {
          "output_type": "stream",
          "text": [
            "O: 1  L: 100 F: 1 S: rws I: 93 of 100 Pool: 1024\n"
          ],
          "name": "stdout"
        },
        {
          "output_type": "display_data",
          "data": {
            "text/plain": [
              "{0: 521732, 1: 2044}"
            ]
          },
          "metadata": {
            "tags": []
          }
        },
        {
          "output_type": "stream",
          "text": [
            "O: 1  L: 100 F: 1 S: rws I: 94 of 100 Pool: 1024\n"
          ],
          "name": "stdout"
        },
        {
          "output_type": "display_data",
          "data": {
            "text/plain": [
              "{0: 522753, 1: 1023}"
            ]
          },
          "metadata": {
            "tags": []
          }
        },
        {
          "output_type": "stream",
          "text": [
            "O: 1  L: 100 F: 1 S: rws I: 95 of 100 Pool: 1024\n"
          ],
          "name": "stdout"
        },
        {
          "output_type": "display_data",
          "data": {
            "text/plain": [
              "{0: 520710, 1: 3063, 2: 3}"
            ]
          },
          "metadata": {
            "tags": []
          }
        },
        {
          "output_type": "stream",
          "text": [
            "O: 1  L: 100 F: 1 S: rws I: 96 of 100 Pool: 1024\n"
          ],
          "name": "stdout"
        },
        {
          "output_type": "display_data",
          "data": {
            "text/plain": [
              "{0: 522753, 1: 1023}"
            ]
          },
          "metadata": {
            "tags": []
          }
        },
        {
          "output_type": "stream",
          "text": [
            "O: 1  L: 100 F: 1 S: rws I: 97 of 100 Pool: 1024\n"
          ],
          "name": "stdout"
        },
        {
          "output_type": "display_data",
          "data": {
            "text/plain": [
              "{0: 521731, 1: 2044, 2: 1}"
            ]
          },
          "metadata": {
            "tags": []
          }
        },
        {
          "output_type": "stream",
          "text": [
            "O: 1  L: 100 F: 1 S: rws I: 98 of 100 Pool: 1024\n"
          ],
          "name": "stdout"
        },
        {
          "output_type": "display_data",
          "data": {
            "text/plain": [
              "{0: 522753, 1: 1023}"
            ]
          },
          "metadata": {
            "tags": []
          }
        },
        {
          "output_type": "stream",
          "text": [
            "O: 1  L: 100 F: 1 S: rws I: 99 of 100 Pool: 1024\n"
          ],
          "name": "stdout"
        },
        {
          "output_type": "display_data",
          "data": {
            "text/plain": [
              "{0: 519691, 1: 4080, 2: 5}"
            ]
          },
          "metadata": {
            "tags": []
          }
        },
        {
          "output_type": "stream",
          "text": [
            "O: 1  L: 100 F: 1 S: rws I: 100 of 100 Pool: 1024\n"
          ],
          "name": "stdout"
        },
        {
          "output_type": "display_data",
          "data": {
            "text/plain": [
              "{0: 520711, 1: 3063, 2: 2}"
            ]
          },
          "metadata": {
            "tags": []
          }
        },
        {
          "output_type": "stream",
          "text": [
            "Done with pm_option: 0\n",
            "Done with selection_option: rws\n",
            "Done with fitness_option: 1\n",
            "Done with chain length: 100\n",
            "Done with option: 1\n"
          ],
          "name": "stdout"
        },
        {
          "output_type": "execute_result",
          "data": {
            "text/html": [
              "<div>\n",
              "<style scoped>\n",
              "    .dataframe tbody tr th:only-of-type {\n",
              "        vertical-align: middle;\n",
              "    }\n",
              "\n",
              "    .dataframe tbody tr th {\n",
              "        vertical-align: top;\n",
              "    }\n",
              "\n",
              "    .dataframe thead th {\n",
              "        text-align: right;\n",
              "    }\n",
              "</style>\n",
              "<table border=\"1\" class=\"dataframe\">\n",
              "  <thead>\n",
              "    <tr style=\"text-align: right;\">\n",
              "      <th></th>\n",
              "      <th>Відсоток поліморфних нейтральних генів у популяції</th>\n",
              "      <th>Дикий тип: % Поліморфних генів</th>\n",
              "      <th>Дикий тип: Коефіцієнт варіації</th>\n",
              "      <th>Дикий тип: Кількість поліморфних генів</th>\n",
              "      <th>Дикий тип: Максимальне значення</th>\n",
              "      <th>Дикий тип: Математичне сподівання</th>\n",
              "      <th>Дикий тип: Мода</th>\n",
              "      <th>Дикий тип: Мінімальне значення</th>\n",
              "      <th>Дикий тип: Середнє квадратичне відхилення</th>\n",
              "      <th>Модуль різниці найкращого здоров’я в популяції від оптимального</th>\n",
              "      <th>Модуль різниці середнього здоров’я в популяції від оптимального</th>\n",
              "      <th>Оптимальний: Коефіцієнт варіації</th>\n",
              "      <th>Оптимальний: Максимальне значення</th>\n",
              "      <th>Оптимальний: Математичне сподівання</th>\n",
              "      <th>Оптимальний: Мода</th>\n",
              "      <th>Оптимальний: Мінімальне значення</th>\n",
              "      <th>Оптимальний: Середнє квадратичне відхилення</th>\n",
              "      <th>Попарно: Коефіцієнт варіації</th>\n",
              "      <th>Попарно: Максимальне значення</th>\n",
              "      <th>Попарно: Математичне сподівання</th>\n",
              "      <th>Попарно: Мода</th>\n",
              "      <th>Попарно: Мінімальне значення</th>\n",
              "      <th>Попарно: Середнє квадратичне відхилення</th>\n",
              "    </tr>\n",
              "    <tr>\n",
              "      <th>run_name</th>\n",
              "      <th></th>\n",
              "      <th></th>\n",
              "      <th></th>\n",
              "      <th></th>\n",
              "      <th></th>\n",
              "      <th></th>\n",
              "      <th></th>\n",
              "      <th></th>\n",
              "      <th></th>\n",
              "      <th></th>\n",
              "      <th></th>\n",
              "      <th></th>\n",
              "      <th></th>\n",
              "      <th></th>\n",
              "      <th></th>\n",
              "      <th></th>\n",
              "      <th></th>\n",
              "      <th></th>\n",
              "      <th></th>\n",
              "      <th></th>\n",
              "      <th></th>\n",
              "      <th></th>\n",
              "      <th></th>\n",
              "    </tr>\n",
              "  </thead>\n",
              "  <tbody>\n",
              "    <tr>\n",
              "      <th>opt_1_len_100_fit_1_select_rws_pm_0_iterations_100</th>\n",
              "      <td>0.0137</td>\n",
              "      <td>0.0</td>\n",
              "      <td>9.31249</td>\n",
              "      <td>0.0</td>\n",
              "      <td>0.77</td>\n",
              "      <td>0.008562</td>\n",
              "      <td>0.0</td>\n",
              "      <td>0.0</td>\n",
              "      <td>0.051961</td>\n",
              "      <td>0.0</td>\n",
              "      <td>0.0</td>\n",
              "      <td>9.31249</td>\n",
              "      <td>0.77</td>\n",
              "      <td>0.008562</td>\n",
              "      <td>0.0</td>\n",
              "      <td>0.0</td>\n",
              "      <td>0.051961</td>\n",
              "      <td>9.31249</td>\n",
              "      <td>1.23</td>\n",
              "      <td>0.008562</td>\n",
              "      <td>0.0</td>\n",
              "      <td>0.0</td>\n",
              "      <td>0.072838</td>\n",
              "    </tr>\n",
              "  </tbody>\n",
              "</table>\n",
              "</div>"
            ],
            "text/plain": [
              "                                                    Відсоток поліморфних нейтральних генів у популяції  ...  Попарно: Середнє квадратичне відхилення\n",
              "run_name                                                                                                ...                                         \n",
              "opt_1_len_100_fit_1_select_rws_pm_0_iterations_100                                             0.0137   ...                                 0.072838\n",
              "\n",
              "[1 rows x 23 columns]"
            ]
          },
          "metadata": {
            "tags": []
          },
          "execution_count": 97
        }
      ]
    },
    {
      "cell_type": "code",
      "metadata": {
        "id": "ipGLs8wkaHJG",
        "colab_type": "code",
        "colab": {}
      },
      "source": [
        "# One time generators for neutral / pathogenic / lethal mutation locus\n",
        "# 0 - neutral, 1 - pathogenic, 2 - lethal\n",
        "def generate_mutation_identity(length):\n",
        "    neutral_first = 0.053\n",
        "    neutral_other = 0.3577\n",
        "    pathogenic = 0.0232\n",
        "\n",
        "    neutral_first_count = int(length * neutral_first + 0.5)\n",
        "    neutral_other_count = int(length * neutral_other + 0.5)\n",
        "    pathogenic_count = int(length * pathogenic + 0.5)\n",
        "    lethal_count = length - neutral_first_count - neutral_other_count - pathogenic_count\n",
        "    print(\"N_f:\", neutral_first_count, \"N_o:\", neutral_other_count, \"N:\", neutral_first_count + neutral_other_count, \"P:\", pathogenic_count, \"L:\", lethal_count)\n",
        "\n",
        "    initial_seq = []\n",
        "    resulting_seq = []\n",
        "    for i in range(0, length):\n",
        "        initial_seq.append(i)\n",
        "        resulting_seq.append(LETHAL_MASK)\n",
        "\n",
        "    for i in range(0, neutral_first_count):\n",
        "        ind = initial_seq[0]\n",
        "        del initial_seq[0]\n",
        "        resulting_seq[ind] = NEUTRAL_MASK\n",
        "    \n",
        "    for i in range(0, neutral_other_count):\n",
        "        rnd = np.random.randint(len(initial_seq))\n",
        "        ind = initial_seq[rnd]\n",
        "        del initial_seq[rnd]\n",
        "        resulting_seq[ind] = NEUTRAL_MASK\n",
        "\n",
        "    for i in range(0, pathogenic_count):\n",
        "        rnd = np.random.randint(len(initial_seq))\n",
        "        ind = initial_seq[rnd]\n",
        "        del initial_seq[rnd]\n",
        "        resulting_seq[ind] = PATHOGENIC_MASK\n",
        "\n",
        "    print(\"Resulting:\", resulting_seq)\n",
        "    print(\"Counts:\", Counter(resulting_seq))\n",
        "\n",
        "    df = pd.DataFrame(resulting_seq, columns=[f\"npl_{length}\"])\n",
        "    df.to_csv(f\"npl_{length}.csv\", index=False)    \n",
        "\n",
        "#generate_mutation_identity(10)\n",
        "#generate_mutation_identity(200)\n",
        "# generate_mutation_identity(1000)\n",
        "#generate_mutation_identity(2000)\n",
        "#generate_mutation_identity(5000)\n",
        "#generate_mutation_identity(10000)\n",
        "#generate_mutation_identity(20000)\n",
        "#generate_mutation_identity(80000)\n"
      ],
      "execution_count": 0,
      "outputs": []
    },
    {
      "cell_type": "code",
      "metadata": {
        "id": "bzb1OikSnTAE",
        "colab_type": "code",
        "outputId": "b467ef20-e950-48b8-ea72-50b2299f4c88",
        "colab": {
          "base_uri": "https://localhost:8080/",
          "height": 34
        }
      },
      "source": [
        "import shutil\n",
        "shutil.make_archive('histograms', 'zip', 'histograms')"
      ],
      "execution_count": 0,
      "outputs": [
        {
          "output_type": "execute_result",
          "data": {
            "text/plain": [
              "'/content/histograms.zip'"
            ]
          },
          "metadata": {
            "tags": []
          },
          "execution_count": 99
        }
      ]
    },
    {
      "cell_type": "markdown",
      "metadata": {
        "id": "VuZYVYzpgZNL",
        "colab_type": "text"
      },
      "source": [
        "1. Яка початкова популяція в 3) - нулі?\n",
        "2. Кількість ітерацій в 3) з к=1.25 - з 9 по 3000, чи з 9 по 3008?\n",
        "3. Як зробити нормальний і рівномірний розподіл?\n",
        "4. Як брати Рх?\n",
        "5. З чого будувати гістограми?\n",
        "6. Таблиця зі статистикою - одна чи багато?\n",
        "7. Що з прогонами?\n",
        "8. Що робити якщо всі будуть летальні\n",
        "9. Як відбирати турнір при N < tournament_count"
      ]
    }
  ]
}